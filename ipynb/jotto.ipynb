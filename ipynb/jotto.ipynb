{
 "cells": [
  {
   "cell_type": "markdown",
   "metadata": {},
   "source": [
    "<div align=\"right\" style=\"text-align: right;\"><i>Peter Norvig<br>April 2020</i></div>\n",
    "\n",
    "# Jotto\n",
    "\n",
    "[Jotto](https://en.wikipedia.org/wiki/Jotto) is a game in which a **guesser** tries to guess a **target** word, which is chosen from a list of permissible words, in a minimum number of guesses. The **reply** to each guess is the number of letters in common between the guess word and the target word, regardless of the positions of the letters.   \n",
    "\n",
    "Here is an example Jotto game, where I show the guesses, the replies, the number of possible targets that are consistent with all the guesses/replies seen so far, and finally the letters that matched (this is as an aid to you, the reader; these matching letters are not known to the guesser). In this game, the guesser gets to the target word, \"wonky\", in 7 guesses. \n",
    "\n",
    "    Guess 1: stoma, Reply: 1, Possible targets: 1118    (Matched: \"o\")\n",
    "    Guess 2: bairn, Reply: 1, Possible targets: 441     (Matched: \"n\")\n",
    "    Guess 3: swipe, Reply: 1, Possible targets: 197     (Matched: \"w\")\n",
    "    Guess 4: lurks, Reply: 1, Possible targets: 87      (Matched: \"k\")\n",
    "    Guess 5: rowdy, Reply: 3, Possible targets: 14      (Matched: \"owy\")\n",
    "    Guess 6: roved, Reply: 1, Possible targets: 2       (Matched: \"o\")\n",
    "    Guess 7: wonky, Reply: 5, Possible targets: 1       (Matched: \"wonky\")\n",
    "\n",
    "\n",
    "\n",
    "There are several variants of the game; here are my answers to  four key questions:\n",
    "\n",
    "1. How many letters can each word be? <br>My answer is **only five-letter words**.\n",
    "2. Can a guess be a word that is not in the word list? <br>My answer is **no**.\n",
    "1. What is the reply for a word that has the same letter twice, like the `s` in `stars`? <br>My answer is to **disallow such words**.\n",
    "2. What if the reply is `5`, but the guess is not the target? For example, if the guess is `parse` the\n",
    "target might be `apres`, `asper`, `pares`, `parse`, `pears`, `reaps`, `spare`, or `spear`. <br>My answer is to **disallow two or more words that are anagrams** of each other; only one such word is allowed in the  word list. \n",
    "\n",
    "Typically, the **guesser** plays against a **chooser**, who chooses the target word. This introduces a game-theoretic aspect: the chooser chooses a word that should be difficult for the guesser, but knowing that, the guesser modifies their strategy, and knowing that, the chooser further modifies their choice, etc. To avoid these complications, I will instead use a scenario that eliminates the chooser: the guesser plays against *every* possible target, and we measure the scores from all those games. (This is appropriate when the guesser is a program, but would be extremely tedious for a human guesser.)\n",
    "\n",
    "We can make a Jotto word list by reading in a file of  words, `sgb-words.txt`, and keeping only those words that have five distinct letters, and only one of the words that share a common anagram form. (But first some imports.)"
   ]
  },
  {
   "cell_type": "code",
   "execution_count": 1,
   "metadata": {},
   "outputs": [],
   "source": [
    "import matplotlib.pyplot as plt\n",
    "import random\n",
    "from typing      import List\n",
    "from statistics  import mean, stdev\n",
    "from collections import namedtuple\n",
    "from math        import log\n",
    "\n",
    "! [ -e sgb-words.txt ] || curl -O https://norvig.com/ngrams/sgb-words.txt"
   ]
  },
  {
   "cell_type": "code",
   "execution_count": 2,
   "metadata": {},
   "outputs": [
    {
     "data": {
      "text/plain": [
       "2845"
      ]
     },
     "execution_count": 2,
     "metadata": {},
     "output_type": "execute_result"
    }
   ],
   "source": [
    "def jotto_words(words) -> List[str]:\n",
    "    \"\"\"Build a list of permissible Jotto words from an iterable of words.\"\"\"\n",
    "    anagram_table = {anagram_form(w): w \n",
    "                     for w in words if len(w) == 5 == len(set(w))}\n",
    "    return list(anagram_table.values())\n",
    "\n",
    "def anagram_form(word) -> str: return ''.join(sorted(word))\n",
    "\n",
    "wordlist = jotto_words(open('sgb-words.txt').read().split())\n",
    "len(wordlist)"
   ]
  },
  {
   "cell_type": "markdown",
   "metadata": {},
   "source": [
    "We see there are 2845 permissible words."
   ]
  },
  {
   "cell_type": "markdown",
   "metadata": {},
   "source": [
    "# Playing a Game\n",
    "\n",
    "We will define the function `play_jotto` to play a game and optionally produce the output shown above in the example game (without the \"(Matched: ...)\"), and finally return the number of guesses made. To avoid a possible infinite loop with a poor guesser, we impose an upper limit of 1000 guesses for a game.\n",
    "\n",
    "The first argument to `play_jotto` is a `guesser`. I choose to implement a guesser as a `callable` (e.g., a function) that is passed the current state of the game and returns a guess word. So how do we represent the state of the game? `play_jotto` is keeping track of the `targets` that are still possible given previous guesses and replies, so we might as well pass that in. In addition, we pass in the reply from the previous guess. Note that a guess need not be one of the possible targets, but it must be one of the words in the word list. (If it is not, the guesser forfeits the game, and the score is recorded as the limit.) "
   ]
  },
  {
   "cell_type": "code",
   "execution_count": 3,
   "metadata": {},
   "outputs": [],
   "source": [
    "def play_jotto(guesser, target=None, wordlist=wordlist, limit=1000, verbose=False) -> int:\n",
    "    \"\"\"How many guesses does it take for the guesser to guess the Jotto target word?\"\"\"\n",
    "    target  = target or random.choice(wordlist)\n",
    "    targets = wordlist\n",
    "    reply   = None\n",
    "    for guesses in range(1, limit + 1):\n",
    "        guess = guesser(reply, targets)\n",
    "        if guess not in wordlist:\n",
    "            return limit\n",
    "        reply = reply_for(target, guess)\n",
    "        targets = [w for w in targets if reply_for(guess, w) == reply]\n",
    "        if verbose: \n",
    "            print(f'Guess {guesses}: {guess}, Reply: {reply}, Possible targets: {len(targets)}')\n",
    "        if guess == target or guesses == limit:  \n",
    "            return guesses\n",
    "                         \n",
    "def reply_for(target, guess) -> int: \n",
    "    \"The number of letters in common between the target and guess\"\n",
    "    return len(set(target).intersection(guess))"
   ]
  },
  {
   "cell_type": "markdown",
   "metadata": {},
   "source": [
    "# Random Guesser\n",
    "\n",
    "One simple guesser function is `random_guesser`: from the possible targets, pick one at random. That sounds naive, but it is actually a decent strategy:"
   ]
  },
  {
   "cell_type": "code",
   "execution_count": 4,
   "metadata": {},
   "outputs": [
    {
     "name": "stdout",
     "output_type": "stream",
     "text": [
      "Guess 1: blunt, Reply: 0, Possible targets: 683\n",
      "Guess 2: exams, Reply: 2, Possible targets: 290\n",
      "Guess 3: vised, Reply: 2, Possible targets: 120\n",
      "Guess 4: heard, Reply: 3, Possible targets: 38\n",
      "Guess 5: redox, Reply: 2, Possible targets: 30\n",
      "Guess 6: pawed, Reply: 4, Possible targets: 8\n",
      "Guess 7: waked, Reply: 3, Possible targets: 3\n",
      "Guess 8: paged, Reply: 4, Possible targets: 2\n",
      "Guess 9: caped, Reply: 5, Possible targets: 1\n"
     ]
    },
    {
     "data": {
      "text/plain": [
       "9"
      ]
     },
     "execution_count": 4,
     "metadata": {},
     "output_type": "execute_result"
    }
   ],
   "source": [
    "def random_guesser(_, targets) -> str: return random.choice(targets)\n",
    "\n",
    "play_jotto(random_guesser, verbose=True)"
   ]
  },
  {
   "cell_type": "markdown",
   "metadata": {},
   "source": [
    "# Evaluating Guessers\n",
    "\n",
    "That was just one sample game. How well will this guesser do averaged over all targets? The function `play_jottos` plays a game against every target and collects the scores. Then, `show` displays a histogram and the mean, standard deviation, and maximum values of the scores. "
   ]
  },
  {
   "cell_type": "code",
   "execution_count": 5,
   "metadata": {},
   "outputs": [],
   "source": [
    "def play_jottos(guesser, targets=wordlist, wordlist=wordlist) -> List[int]:\n",
    "    \"\"\"Scores for this guesser on all targets.\"\"\"\n",
    "    return [play_jotto(guesser, target, wordlist, verbose=False)\n",
    "            for target in targets]\n",
    "    \n",
    "def show(scores):\n",
    "    \"\"\"Show a histogram and statistics for these scores.\"\"\"\n",
    "    scores = list(scores)\n",
    "    bins = range(min(scores), max(scores) + 2) \n",
    "    weights = [1/len(scores)] * len(scores)\n",
    "    plt.hist(scores, align='left', rwidth=0.9, bins=bins, weights=weights)\n",
    "    plt.xticks(bins[:-1])\n",
    "    plt.xlabel('Number of guesses to find target'); \n",
    "    plt.ylabel('Proportion of targets')\n",
    "    print(f'mean = {mean(scores):.2f} ± {stdev(scores):.2f}, max = {max(scores)}')"
   ]
  },
  {
   "cell_type": "markdown",
   "metadata": {},
   "source": [
    "Since `random_guesser` has a random component, let's evaluate each target multiple times to reduce variance. Let's say 5 times:"
   ]
  },
  {
   "cell_type": "code",
   "execution_count": 6,
   "metadata": {},
   "outputs": [
    {
     "name": "stdout",
     "output_type": "stream",
     "text": [
      "mean = 7.37 ± 1.71, max = 18\n"
     ]
    },
    {
     "data": {
      "image/png": "[encoded data removed]",
      "text/plain": [
       "<Figure size 432x288 with 1 Axes>"
      ]
     },
     "metadata": {
      "needs_background": "light"
     },
     "output_type": "display_data"
    }
   ],
   "source": [
    "show(play_jottos(random_guesser, targets=5*wordlist))"
   ]
  },
  {
   "cell_type": "markdown",
   "metadata": {},
   "source": [
    "The average is 7.38 guesses, and most of the time it will take from 6 to 9 guesses. Can we do better than that?\n",
    "\n",
    "#  Strategies that Partition Targets\n",
    "\n",
    "It seems that a key idea in guessing is to reduce the number of possible targets. We can think of each guess as **partitioning** the possible targets into different **branches** of a tree, each branch corresponding to a different reply number. Once you get the reply, you can discard all the other branches. \n",
    "\n",
    "I will define  `reply_branches(guess, targets)[i]` to give all the target words that yield a reply of `i`, for any `i` from 0 to 5. Similarly, `reply_counts(guess, targets)[i]` gives the number of targets that yield a reply of `i`. The reply counts for every guess (with the full wordlist as targets) are cached in `reply_counts_cache`."
   ]
  },
  {
   "cell_type": "code",
   "execution_count": 7,
   "metadata": {},
   "outputs": [],
   "source": [
    "def reply_branches(guess, targets) -> List[str]:\n",
    "    \"\"\"A list of [[targets_with_reply_i], ...] for i from 0 to 5.\"\"\"\n",
    "    result = [[] for _ in range(6)]\n",
    "    for target in targets:\n",
    "        result[reply_for(target, guess)].append(target)\n",
    "    return result\n",
    "\n",
    "def reply_counts(guess, targets) -> List[int]: \n",
    "    \"A list of [number_of_targets_with_reply_i, ...] for i from 0 to 5.\"\n",
    "    counts = [0] * 6\n",
    "    for target in targets:\n",
    "        counts[reply_for(guess, target)] += 1\n",
    "    return counts\n",
    "\n",
    "reply_counts_cache = {guess: reply_counts(guess, wordlist) for guess in wordlist}"
   ]
  },
  {
   "cell_type": "markdown",
   "metadata": {},
   "source": [
    "I don't want to show `reply_branches` with all 2,845 words, so here it is for the first 20 words of the word list, with the guess `'after'`:"
   ]
  },
  {
   "cell_type": "code",
   "execution_count": 8,
   "metadata": {},
   "outputs": [
    {
     "data": {
      "text/plain": [
       "[['would', 'cloud', 'sound'],\n",
       " ['sword', 'think', 'fondu', 'might'],\n",
       " ['about', 'girth', 'place', 'ethos', 'nuder'],\n",
       " ['their', 'throe', 'write', 'rifts', 'resay'],\n",
       " ['water', 'grate'],\n",
       " ['after']]"
      ]
     },
     "execution_count": 8,
     "metadata": {},
     "output_type": "execute_result"
    }
   ],
   "source": [
    "reply_branches('after', wordlist[:20])"
   ]
  },
  {
   "cell_type": "markdown",
   "metadata": {},
   "source": [
    "We see that `'after'` does a pretty good job of partitioning the words into roughly-equal branches."
   ]
  },
  {
   "cell_type": "markdown",
   "metadata": {},
   "source": [
    "Below are the reply counts over the full wordlist for two possible guesses, `ouija` and `coder`:"
   ]
  },
  {
   "cell_type": "code",
   "execution_count": 9,
   "metadata": {},
   "outputs": [
    {
     "data": {
      "text/plain": [
       "[175, 1848, 755, 65, 1, 1]"
      ]
     },
     "execution_count": 9,
     "metadata": {},
     "output_type": "execute_result"
    }
   ],
   "source": [
    "reply_counts_cache['ouija']"
   ]
  },
  {
   "cell_type": "code",
   "execution_count": 10,
   "metadata": {},
   "outputs": [
    {
     "data": {
      "text/plain": [
       "[433, 1030, 1014, 327, 40, 1]"
      ]
     },
     "execution_count": 10,
     "metadata": {},
     "output_type": "execute_result"
    }
   ],
   "source": [
    "reply_counts_cache['coder']"
   ]
  },
  {
   "cell_type": "markdown",
   "metadata": {},
   "source": [
    "We see that for the guess `'ouija'`, there are 1848 possible targets in the `1` branch (the second entry in the counts, because the first entry is for `0`). There are far fewer possible targets in the other branches, so that means that for the majority of targets, you will be left with 1848 possible targets.\n",
    "\n",
    "For the guess `coder`, the reply will be `1` or `2` for (1030 + 1014) / 2845 = 72% of the targets, and in any case, there will never be more than 1030 possible targets to deal with. That suggests that `coder` is a better first guess, and it suggests a general strategy: **choose the guess that best partitions the possible targets into small branches.**\n",
    "\n",
    "What's a proper metric for measuring how \"small\" the branches are? \n",
    "\n",
    "- The simplest metric is to **minimize the maximum number in the reply counts**. That is, we should deduce that `coder`, with its `max` reply count of 1030, is a better guess than `ouija`, with its `max` of 1848. \n",
    "\n",
    "- A slightly more sophisticated metric is to **minimize the expected number in the reply counts**: the expectation is the sum, over all branches, of the probability of ending up in the branch times the size of the branch.\n",
    "\n",
    "- Information theory provides a suggestion to **maximize the entropy in the reply counts**. Entropy is similar to expectation, except that it weights each branch size by its base 2 logarithm (whereas expectation weights it by its actual size). Note that we want to minimize *negative* entropy."
   ]
  },
  {
   "cell_type": "code",
   "execution_count": 11,
   "metadata": {},
   "outputs": [],
   "source": [
    "def expectation(counts) -> float:\n",
    "    \"Given a list of counts, give the expected count.\"\n",
    "    def P(x, scale=1/sum(counts)): return scale * x\n",
    "    return sum(P(x) * x for x in counts)\n",
    "\n",
    "def entropy(counts) -> float: \n",
    "    \"\"\"Information theoretic entropy of a list of counts.\"\"\"\n",
    "    def P(x, scale=1/sum(counts)): return scale * x\n",
    "    return - sum(P(x) * log(P(x), 2) for x in counts if x)\n",
    "\n",
    "def negative_entropy(counts) -> float: return - entropy(counts)\n",
    "\n",
    "def top(words, metric, n=15) -> str: \n",
    "    \"\"\"The top n words according to metric(reply_counts_cache[w]).\"\"\"\n",
    "    return ' '.join(sorted(words, key=lambda w: metric(reply_counts_cache[w]))[:n])"
   ]
  },
  {
   "cell_type": "markdown",
   "metadata": {},
   "source": [
    "Here are the top 15 words according to each of the three metrics:"
   ]
  },
  {
   "cell_type": "code",
   "execution_count": 12,
   "metadata": {},
   "outputs": [
    {
     "data": {
      "text/plain": [
       "'wader cadre armed diner coder padre rayed raved delta drone garde eland heard tired debar'"
      ]
     },
     "execution_count": 12,
     "metadata": {},
     "output_type": "execute_result"
    }
   ],
   "source": [
    "# minimize the maximum number in the reply counts\n",
    "top(wordlist, metric=max)"
   ]
  },
  {
   "cell_type": "code",
   "execution_count": 13,
   "metadata": {},
   "outputs": [
    {
     "data": {
      "text/plain": [
       "'raved debar roved orbed wader armed fader dater alder cadre garde padre deign gored laved'"
      ]
     },
     "execution_count": 13,
     "metadata": {},
     "output_type": "execute_result"
    }
   ],
   "source": [
    "# minimize the expected number in the reply counts\n",
    "top(wordlist, metric=expectation)"
   ]
  },
  {
   "cell_type": "code",
   "execution_count": 14,
   "metadata": {},
   "outputs": [
    {
     "data": {
      "text/plain": [
       "'debar alder raved dater cadre armed garde wader lased padre fader dears drone diner rayed'"
      ]
     },
     "execution_count": 14,
     "metadata": {},
     "output_type": "execute_result"
    }
   ],
   "source": [
    "# maximize the entropy (by minimizing negative entropy) in the reply counts\n",
    "top(wordlist, metric=negative_entropy)"
   ]
  },
  {
   "cell_type": "markdown",
   "metadata": {},
   "source": [
    "The three metrics yield a lot of overlap; `wader`, `raved`, and `debar` appear near the top in all three. Which metric is best? We have the tools to answer that: we could use `play_jottos` to get scores for each metric. But that would take a long time, because many computations would be repeated for each target word. We were able to create the `reply_counts_cache` for the words in the complete wordlist, but we really could use a similar cache for all the cases where we have eliminated some of the possible targets."
   ]
  },
  {
   "cell_type": "markdown",
   "metadata": {},
   "source": [
    "#  Guesser Trees \n",
    "\n",
    "My approach to the cache problem will be to build a **guesser tree**: a tree that partitions target words into branches all the way to the end, where each partition holds a single word. Think of this as a universal strategy that we can precompute once, and then apply to every possible target word with no need for additional complex computation&mdash;just branch-following in the tree.  I define a tree as either:\n",
    "- A **leaf**, which is a string, such as `'oiuja'`, indicating that this is the sole remaining possible target. Every word in the word list should appear as a leaf in exactly one place in the guesser tree.\n",
    "- An **interior node**, such as `Node(guess='wader', branches={1: 'oiuja', 5: 'wader'})`, consisting of a guess and branches which are `{reply: tree}` pairs. The node shown here means that we should guess `'wader'` first, and if the reply is `1`, then we're left with the single target `'oiuja'` to guess next, and if the reply is `5`, then we finished the game; `'wader'` was the target.\n"
   ]
  },
  {
   "cell_type": "code",
   "execution_count": 15,
   "metadata": {},
   "outputs": [],
   "source": [
    "Leaf = str\n",
    "Node = namedtuple('Node', 'guess, branches')\n",
    "Tree = (Node, Leaf) # A Tree is a Node or a Leaf"
   ]
  },
  {
   "cell_type": "markdown",
   "metadata": {},
   "source": [
    "The function `make_tree` builds a tree that, at every node, chooses the guess that minimizes the value of a metric applied to the reply counts for the guess and the targets. It takes two arguments:\n",
    "- `metric`, a function that takes a reply count list as input and returns a number;\n",
    "- `targets`, the list of remaining possible target words. "
   ]
  },
  {
   "cell_type": "code",
   "execution_count": 16,
   "metadata": {},
   "outputs": [],
   "source": [
    "def make_tree(metric, targets=wordlist) -> Tree:\n",
    "    \"\"\"Make a tree that guesses to minimize or maximize metric(reply_counts(guess, targets)).\"\"\"\n",
    "    if len(targets) == 1:\n",
    "        return targets[0]\n",
    "    else:\n",
    "        guess = min(targets, key=lambda guess: metric(reply_counts(guess, targets))) \n",
    "        branches = reply_branches(guess, targets)\n",
    "        return Node(guess, {i: make_tree(metric, branches[i]) \n",
    "                            for i in range(6) if branches[i]})"
   ]
  },
  {
   "cell_type": "markdown",
   "metadata": {},
   "source": [
    "Consider the case where there are five possible targets: `purge`, `bites`, `sulky`, `patsy`, and `hayed`.\n",
    "Here is a tree to cover those words by, at each node in the tree, making the guess that **minimizes** the **maximum** number in the reply counts list:"
   ]
  },
  {
   "cell_type": "code",
   "execution_count": 17,
   "metadata": {},
   "outputs": [
    {
     "data": {
      "text/plain": [
       "Node(guess='bites', branches={1: Node(guess='purge', branches={1: Node(guess='sulky', branches={1: 'hayed', 5: 'sulky'}), 5: 'purge'}), 2: 'patsy', 5: 'bites'})"
      ]
     },
     "execution_count": 17,
     "metadata": {},
     "output_type": "execute_result"
    }
   ],
   "source": [
    "words5 = 'purge bites sulky patsy hayed'.split()\n",
    "tree5  = make_tree(max, words5)\n",
    "tree5"
   ]
  },
  {
   "cell_type": "markdown",
   "metadata": {},
   "source": [
    "\n",
    "That tree is easier to understand if we reformat it like this:\n",
    "\n",
    "    Node(guess='bites', \n",
    "         branches={1: Node(guess='purge', \n",
    "                           branches={1: Node(guess='sulky', \n",
    "                                        branches={1: 'hayed', \n",
    "                                                  5: 'sulky'}), \n",
    "                                     5: 'purge'}), \n",
    "                   2: 'patsy', \n",
    "                   5: 'bites'})\n",
    "                   \n",
    "This says that the first guess is `'bites'`, and if the reply is `1` there is a complex subtree to consider (starting with the guess `'purge'`), but if the reply is `2` the target must be `'patsy'` and of course if the reply is `5` then `'bites'` was the target."
   ]
  },
  {
   "cell_type": "markdown",
   "metadata": {},
   "source": [
    "# Turning a Tree into a Callable Guesser\n",
    "\n",
    "Now that we've made a tree, we need to use it as a component of a guesser that `play_jotto` can call upon. A `TreeGuesser` is an object that stores a tree in the `self.root` and `self.tree` attributes, and while the game is being played, it follows branches in the tree, choosing the guess indicated at each node. This is done within the `__call__` method, because `play_jotto` expects a callable.  Note that whenever the reply is `None`, that indicates the first turn of a new game, in which case we reset `self.tree` to be the root tree. For subsequent turns, we follow the branch indicated by the reply. If the resulting `self.tree` is a `Node` object,  then the `.guess` attribute is the guess; if it is a leaf, then the leaf itself is the guess."
   ]
  },
  {
   "cell_type": "code",
   "execution_count": 18,
   "metadata": {},
   "outputs": [],
   "source": [
    "class TreeGuesser:\n",
    "    \"\"\"Given a guesser tree, use it to create a callable that can play_jotto.\"\"\"\n",
    "    def __init__(self, tree): self.root = self.tree = tree\n",
    "        \n",
    "    def __call__(self, reply, _) -> str:\n",
    "        self.tree = self.root if reply is None else self.tree.branches[reply]\n",
    "        return guess(self.tree)\n",
    "    \n",
    "def guess(tree) -> str: return tree.guess if isinstance(tree, Node) else tree "
   ]
  },
  {
   "cell_type": "markdown",
   "metadata": {},
   "source": [
    "Here's how we play a game with the five-word list:"
   ]
  },
  {
   "cell_type": "code",
   "execution_count": 19,
   "metadata": {},
   "outputs": [
    {
     "name": "stdout",
     "output_type": "stream",
     "text": [
      "Guess 1: bites, Reply: 1, Possible targets: 3\n",
      "Guess 2: purge, Reply: 1, Possible targets: 2\n",
      "Guess 3: sulky, Reply: 5, Possible targets: 1\n"
     ]
    },
    {
     "data": {
      "text/plain": [
       "3"
      ]
     },
     "execution_count": 19,
     "metadata": {},
     "output_type": "execute_result"
    }
   ],
   "source": [
    "play_jotto(TreeGuesser(tree5), target='sulky', wordlist=words5, verbose=True)"
   ]
  },
  {
   "cell_type": "markdown",
   "metadata": {},
   "source": [
    "And here we build a tree over the whole word list and use it to play a game:"
   ]
  },
  {
   "cell_type": "code",
   "execution_count": 20,
   "metadata": {},
   "outputs": [
    {
     "name": "stdout",
     "output_type": "stream",
     "text": [
      "Guess 1: wader, Reply: 0, Possible targets: 466\n",
      "Guess 2: tings, Reply: 1, Possible targets: 142\n",
      "Guess 3: hypos, Reply: 0, Possible targets: 8\n",
      "Guess 4: climb, Reply: 5, Possible targets: 1\n"
     ]
    },
    {
     "data": {
      "text/plain": [
       "4"
      ]
     },
     "execution_count": 20,
     "metadata": {},
     "output_type": "execute_result"
    }
   ],
   "source": [
    "tree = make_tree(max)\n",
    "play_jotto(TreeGuesser(tree), verbose=True)"
   ]
  },
  {
   "cell_type": "markdown",
   "metadata": {},
   "source": [
    "# Guessing a Nontarget Word\n",
    "\n",
    "So far,  we have always guessed one of the possible targets. That seems reasonable; why waste a guess on a word that could not possibly be the target? But it turns out that in some cases it *is* a good strategy to guess such a word.\n",
    "\n",
    "I will redefine `make_tree` so that it is passed both the list of possible target words and the complete word list. It also has a flag, `nontargets`. When this flag is true, any word in the wordlist can be considered as a guess; when false, only target words are considered, as before. (One hack: if there are only three targets or fewer remaining, then it makes no sense to consider a nontarget guess, because it can't possibly decrease the mean score.)"
   ]
  },
  {
   "cell_type": "code",
   "execution_count": 21,
   "metadata": {},
   "outputs": [],
   "source": [
    "def make_tree(metric, targets=wordlist, wordlist=wordlist, nontargets=False) -> Tree:\n",
    "    \"\"\"Make a tree that guesses to minimize or maximize metric(reply_counts(guess, targets)).\n",
    "    Allow nontarget guesses if `nontargets` is true.\"\"\"\n",
    "    if len(targets) == 1:\n",
    "        return targets[0]\n",
    "    else:\n",
    "        candidates = wordlist if nontargets and len(targets) > 3 else targets\n",
    "        guess = min(candidates, key=lambda guess: metric(reply_counts(guess, targets))) \n",
    "        branches = reply_branches(guess, targets)\n",
    "        return Node(guess, {i: make_tree(metric, branches[i], wordlist, nontargets) \n",
    "                            for i in range(6) if branches[i]})"
   ]
  },
  {
   "cell_type": "markdown",
   "metadata": {},
   "source": [
    "Here we see that by default, `make_tree` behaves just as it did before:"
   ]
  },
  {
   "cell_type": "code",
   "execution_count": 22,
   "metadata": {},
   "outputs": [
    {
     "data": {
      "text/plain": [
       "Node(guess='bites', branches={1: Node(guess='purge', branches={1: Node(guess='sulky', branches={1: 'hayed', 5: 'sulky'}), 5: 'purge'}), 2: 'patsy', 5: 'bites'})"
      ]
     },
     "execution_count": 22,
     "metadata": {},
     "output_type": "execute_result"
    }
   ],
   "source": [
    "make_tree(max, words5)"
   ]
  },
  {
   "cell_type": "markdown",
   "metadata": {},
   "source": [
    "But when allowed to guess a nontarget word, it comes up with a different tree:"
   ]
  },
  {
   "cell_type": "code",
   "execution_count": 23,
   "metadata": {},
   "outputs": [
    {
     "data": {
      "text/plain": [
       "Node(guess='dashy', branches={0: 'purge', 1: 'bites', 2: 'sulky', 3: 'patsy', 4: 'hayed'})"
      ]
     },
     "execution_count": 23,
     "metadata": {},
     "output_type": "execute_result"
    }
   ],
   "source": [
    "tree5b = make_tree(max, words5, nontargets=True)\n",
    "tree5b"
   ]
  },
  {
   "cell_type": "markdown",
   "metadata": {},
   "source": [
    "This tree guesses a nontarget word, `dashy` with the first guess. There is no chance that this is the target, but it sets us up so that we will always be able to get the target on the second guess (so the average score, and the maximum score, is 2):"
   ]
  },
  {
   "cell_type": "code",
   "execution_count": 24,
   "metadata": {},
   "outputs": [
    {
     "data": {
      "text/plain": [
       "[2, 2, 2, 2, 2]"
      ]
     },
     "execution_count": 24,
     "metadata": {},
     "output_type": "execute_result"
    }
   ],
   "source": [
    "play_jottos(TreeGuesser(tree5b), words5)"
   ]
  },
  {
   "cell_type": "code",
   "execution_count": 25,
   "metadata": {},
   "outputs": [
    {
     "data": {
      "text/plain": [
       "(2, 2)"
      ]
     },
     "execution_count": 25,
     "metadata": {},
     "output_type": "execute_result"
    }
   ],
   "source": [
    "mean(_), max(_)"
   ]
  },
  {
   "cell_type": "markdown",
   "metadata": {},
   "source": [
    "In contrast, the guesser that guesses only target words  has an average score of 2.4, and can take up to four guesses:"
   ]
  },
  {
   "cell_type": "code",
   "execution_count": 26,
   "metadata": {},
   "outputs": [
    {
     "data": {
      "text/plain": [
       "[2, 1, 3, 2, 4]"
      ]
     },
     "execution_count": 26,
     "metadata": {},
     "output_type": "execute_result"
    }
   ],
   "source": [
    "play_jottos(TreeGuesser(tree5), words5)"
   ]
  },
  {
   "cell_type": "code",
   "execution_count": 27,
   "metadata": {},
   "outputs": [
    {
     "data": {
      "text/plain": [
       "(2.4, 4)"
      ]
     },
     "execution_count": 27,
     "metadata": {},
     "output_type": "execute_result"
    }
   ],
   "source": [
    "mean(_), max(_)"
   ]
  },
  {
   "cell_type": "markdown",
   "metadata": {},
   "source": [
    "So the tree with a nontarget guess is better both in the mean (2.0 versus 2.4) and in the maximum (2 versus 4).\n",
    "\n"
   ]
  },
  {
   "cell_type": "markdown",
   "metadata": {},
   "source": [
    "# Comparing Metrics"
   ]
  },
  {
   "cell_type": "markdown",
   "metadata": {},
   "source": [
    "Now we will compare six guessers derived from `make_tree`:\n",
    "- Minimizing either `max`, `expectation`, or `negative_entropy`.\n",
    "- For each of the above, guessing either targets only or targets plus nontargets.\n",
    "\n",
    "The function `show_metric` makes the appropriate tree and calls `play_jottos` and `show` to display results:"
   ]
  },
  {
   "cell_type": "code",
   "execution_count": 28,
   "metadata": {},
   "outputs": [],
   "source": [
    "def show_metric(metric, nontargets=False):\n",
    "    \"\"\"Show statistics and histogram for a guesser that minimizes `metric` over reply counts.\"\"\"\n",
    "    guesser = TreeGuesser(make_tree(metric, nontargets=nontargets))\n",
    "    show(play_jottos(guesser))"
   ]
  },
  {
   "cell_type": "markdown",
   "metadata": {},
   "source": [
    "# Comparing Metrics for Target Guesses Only"
   ]
  },
  {
   "cell_type": "code",
   "execution_count": 29,
   "metadata": {},
   "outputs": [
    {
     "name": "stdout",
     "output_type": "stream",
     "text": [
      "mean = 7.15 ± 1.81, max = 18\n",
      "CPU times: user 12.7 s, sys: 28.7 ms, total: 12.8 s\n",
      "Wall time: 12.8 s\n"
     ]
    },
    {
     "data": {
      "image/png": "[encoded data removed]",
      "text/plain": [
       "<Figure size 432x288 with 1 Axes>"
      ]
     },
     "metadata": {
      "needs_background": "light"
     },
     "output_type": "display_data"
    }
   ],
   "source": [
    "%time show_metric(max, False)"
   ]
  },
  {
   "cell_type": "code",
   "execution_count": 30,
   "metadata": {},
   "outputs": [
    {
     "name": "stdout",
     "output_type": "stream",
     "text": [
      "mean = 7.14 ± 1.82, max = 17\n",
      "CPU times: user 14.2 s, sys: 69.5 ms, total: 14.2 s\n",
      "Wall time: 14.5 s\n"
     ]
    },
    {
     "data": {
      "image/png": "[encoded data removed]",
      "text/plain": [
       "<Figure size 432x288 with 1 Axes>"
      ]
     },
     "metadata": {
      "needs_background": "light"
     },
     "output_type": "display_data"
    }
   ],
   "source": [
    "%time show_metric(expectation, False)"
   ]
  },
  {
   "cell_type": "code",
   "execution_count": 31,
   "metadata": {},
   "outputs": [
    {
     "name": "stdout",
     "output_type": "stream",
     "text": [
      "mean = 7.09 ± 1.79, max = 19\n",
      "CPU times: user 12.9 s, sys: 59.3 ms, total: 13 s\n",
      "Wall time: 13 s\n"
     ]
    },
    {
     "data": {
      "image/png": "[encoded data removed]",
      "text/plain": [
       "<Figure size 432x288 with 1 Axes>"
      ]
     },
     "metadata": {
      "needs_background": "light"
     },
     "output_type": "display_data"
    }
   ],
   "source": [
    "%time show_metric(negative_entropy, False)"
   ]
  },
  {
   "cell_type": "markdown",
   "metadata": {},
   "source": [
    "# Comparing Metrics with Nontarget Guesses Allowed"
   ]
  },
  {
   "cell_type": "code",
   "execution_count": 32,
   "metadata": {},
   "outputs": [
    {
     "name": "stdout",
     "output_type": "stream",
     "text": [
      "mean = 7.05 ± 0.98, max = 10\n",
      "CPU times: user 32.3 s, sys: 47.2 ms, total: 32.3 s\n",
      "Wall time: 32.4 s\n"
     ]
    },
    {
     "data": {
      "image/png": "[encoded data removed]",
      "text/plain": [
       "<Figure size 432x288 with 1 Axes>"
      ]
     },
     "metadata": {
      "needs_background": "light"
     },
     "output_type": "display_data"
    }
   ],
   "source": [
    "%time show_metric(max, True)"
   ]
  },
  {
   "cell_type": "code",
   "execution_count": 33,
   "metadata": {},
   "outputs": [
    {
     "name": "stdout",
     "output_type": "stream",
     "text": [
      "mean = 6.84 ± 0.95, max = 10\n",
      "CPU times: user 34 s, sys: 66.9 ms, total: 34.1 s\n",
      "Wall time: 34.3 s\n"
     ]
    },
    {
     "data": {
      "image/png": "[encoded data removed]",
      "text/plain": [
       "<Figure size 432x288 with 1 Axes>"
      ]
     },
     "metadata": {
      "needs_background": "light"
     },
     "output_type": "display_data"
    }
   ],
   "source": [
    "%time show_metric(expectation, True)"
   ]
  },
  {
   "cell_type": "code",
   "execution_count": 34,
   "metadata": {},
   "outputs": [
    {
     "name": "stdout",
     "output_type": "stream",
     "text": [
      "mean = 6.81 ± 1.00, max = 10\n",
      "CPU times: user 34.3 s, sys: 20.8 ms, total: 34.3 s\n",
      "Wall time: 34.3 s\n"
     ]
    },
    {
     "data": {
      "image/png": "[encoded data removed]",
      "text/plain": [
       "<Figure size 432x288 with 1 Axes>"
      ]
     },
     "metadata": {
      "needs_background": "light"
     },
     "output_type": "display_data"
    }
   ],
   "source": [
    "%time show_metric(negative_entropy, True)"
   ]
  },
  {
   "cell_type": "markdown",
   "metadata": {},
   "source": [
    "# Jotto Summary\n",
    "\n",
    "Here's a table of results:\n",
    "\n",
    "|<br>Algorithm|Targets Only<br>Mean (Max)|Nontargets<br>Mean (Max)|\n",
    "|--|--|--|\n",
    "|baseline random|7.37 (18)|  |\n",
    "|min(max(reply_counts))|7.15 (18)|7.05 (10)|\n",
    "|min(expectation(reply_counts))|7.14 (17)|6.84 (10)|\n",
    "|max(entropy(reply_counts))|7.09 (19)|6.81 (10)|\n",
    "\n",
    "So we started out with a mean of 7.37 and a worst score of 18 with the random guesser, and were able to improve by half a guess to a mean of 6.81 and a worst score of 10 using  maximization of entropy over reply counts, with nontarget guesses allowed."
   ]
  },
  {
   "cell_type": "markdown",
   "metadata": {},
   "source": [
    "# Next Steps\n",
    "\n",
    "There are many directions you could take this if you are interested:\n",
    "- Try different length words.\n",
    "- Allow words with repeated letters, like `stars`.\n",
    "- Have each reply consist of two numbers: the number of letters in common with the target, and the number of letters that are in the exact correct position.\n",
    "- Apply the same techniques to **Mastermind**, which uses the two-number reply system over an alphabet of colors, not letters.\n",
    "- Examine the strategy that a chooser would use, and how the guesser responds to that. Is there an equilibrium?\n",
    "- Our `make_tree` function is **greedy** in that it chooses the guess that minimizes (or maximizes) some metric of the current situation without looking ahead to future branches in the tree. Can you get better performance by doing some **look-ahead**?\n",
    "- Can you improve a tree by editing it? Given a tree, look for interior nodes that have a worse-than-expected average score, and see if the node can be replaced with something better (covering the same target words).\n",
    "- Research what other computer scientists have done with [Jotto](https://arxiv.org/abs/1107.3342) or [Mastermind](http://serkangur.freeservers.com/).\n",
    "- What else can you explore?"
   ]
  }
 ],
 "metadata": {
  "kernelspec": {
   "display_name": "Python 3",
   "language": "python",
   "name": "python3"
  },
  "language_info": {
   "codemirror_mode": {
    "name": "ipython",
    "version": 3
   },
   "file_extension": ".py",
   "mimetype": "text/x-python",
   "name": "python",
   "nbconvert_exporter": "python",
   "pygments_lexer": "ipython3",
   "version": "3.7.6"
  }
 },
 "nbformat": 4,
 "nbformat_minor": 4
}
