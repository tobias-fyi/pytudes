{
 "cells": [
  {
   "cell_type": "markdown",
   "metadata": {},
   "source": [
    "<div style=\"text-align: right\"><i>Peter Norvig<br>April 2020</i></div>\n",
    "\n",
    "# The Stable Matching Problem\n",
    "\n",
    "The **[stable matching problem](https://en.wikipedia.org/wiki/Stable_marriage_problem#Algorithmic_solution)** involves two equally-sized disjoint sets of actors that want to pair off in a way that maximizes happiness. It could be a set of women and a set of men that want to pair off in heterosexual marriage; or a a set of job-seekers and a set of employers. Every year, there is a large-scale application of this problem in which:\n",
    "- Graduating medical students state which hospitals they would prefer to be residents at.\n",
    "- Hospitals in turn state which students they prefer. \n",
    "- An algorithm finds a stable matching.\n",
    "\n",
    "Each actor has **preferences** for who they would prefer to be matched with. In the default way of stating the problem, preferences are expressed as an **ordering**: each actor rates the possible matches on the other side from most preferred to least preferred. But we will go beyond that, allowing each actor to say more: to express their preference for each possible match as a **utility**: a number between 0 and 1. For example actor $A$ on one side could say that they would like to be paired with actor $β$ on the other side with utility 0.9 (meaning a very desireable match) and with actor $γ$ on the other side with utility 0.1 (meaning an undesireable match). The algorithm we present actually pays attention only to the ordering of preferences, but we will use the utilities to analyze how well each side does, on average.\n",
    "\n",
    "A matching is **stable** if it is **not** the case that there is an actor from one side and an actor from the other side who both have a higher preference for each other than they have for who they are currently matched with. \n",
    "\n",
    "# Gale-Shapley Matching Algorithm\n",
    "\n",
    "The **[Gale-Shapley Stable Matching Algorithm](https://en.wikipedia.org/wiki/Gale%E2%80%93Shapley_algorithm)** (*Note: David Gale was my father's [PhD advisor](https://www.genealogy.math.ndsu.nodak.edu/id.php?id=10282&fChrono=1).*) works as follows: one side is chosen to be the **proposers** and the other side the **acceptors**. Until everyone has been matched the algorithm repeats the following steps:\n",
    "- An unmatched proposer, $p$, proposes a match to the highest-ranked acceptor, $a$, that $p$ has not yet proposed to.\n",
    "- If $a$ is unmatched, then $a$ tentatively accepts the proposal to be a match.\n",
    "- If $a$ is matched, but prefers $p$ to their previous match, then $a$ breaks the previous match and tentatively accepts $p$.\n",
    "- If $a$ is matched and prefers their previous match to $p$, then $a$ rejects the proposal.\n",
    "\n",
    "I will define the function `stable_matching(P, A)`, which is passed two preference arrays: $N \\times N$ arrays of utility values such that `P[p][a]` is the utility that proposer `p` has for being matched with  `a`, and `A[a][p]` is the utility that acceptor `a` has for being matched with `p`. The function returns a set of matches, `{(p, a), ...}`. To implement the algorithm sketched above, we keep track of the following variables:\n",
    "- `ids`: If there are $N$ actors on each side, we number them $0$ to $N-1$; `ids` is the collection of these numbers.\n",
    "- `unmatched`: the set of proposers that have not yet been matched to any acceptor.\n",
    "- `matched`: A mapping from acceptors to their matched proposers: `matched[a] = p`.\n",
    "- `proposals`: Keeps track of who each proposer should propose to next. `proposals[p]` is a list of acceptors sorted by increasing utility, which means that `proposals[p].pop()` returns (and removes) the best acceptor for $p$ to propose to next. "
   ]
  },
  {
   "cell_type": "code",
   "execution_count": 1,
   "metadata": {},
   "outputs": [],
   "source": [
    "import matplotlib.pyplot as plt\n",
    "from statistics import mean, stdev\n",
    "import random\n",
    "\n",
    "def stable_matching(P, A) -> set:\n",
    "    \"\"\"Compute a stable match, a set of (p, a) pairs.\n",
    "    P and A are square preference arrays: P[p][a] is how much p likes a;\n",
    "    A[a][p] is how much a likes p. Stable means there is no (p, a)\n",
    "    such that both prefer each other over the partner they are matched with.\"\"\"\n",
    "    ids = range(len(P))           # ID numbers of all actors on (either) side\n",
    "    unmatched = set(ids)          # Members of P that are not yet matched to anyone\n",
    "    matched = {}                  # {a: p} mapping of who acceptors are matched with\n",
    "    proposals = orderings(P, ids) # proposals[p] is an ordered list of who p should propose to\n",
    "    while unmatched:\n",
    "        p = next(iter(unmatched)) # p is an arbitrary unmatched Proposer\n",
    "        a = proposals[p].pop()    # a is p's most preferred remaining acceptor\n",
    "        if a not in matched:\n",
    "            unmatched.remove(p)\n",
    "            matched[a] = p\n",
    "        elif A[a][p] > A[a][matched[a]]:\n",
    "            unmatched.add(matched[a])\n",
    "            unmatched.remove(p)\n",
    "            matched[a] = p\n",
    "    return {(p, a) for (a, p) in matched.items()}\n",
    "\n",
    "def orderings(P, ids): return [sorted(ids, key=lambda a: P[p][a]) for p in ids]"
   ]
  },
  {
   "cell_type": "markdown",
   "metadata": {},
   "source": [
    "The algorithm has the following properties:\n",
    "- The algorithm will always terminate.\n",
    "- The output of the algorithm will always be a stable matching.\n",
    "- Out of all possible stable matchings, it will produce the one that is optimal for proposers: each proposer gets the best possible match they could get. That's true because the proposers propose in order of preference, so the acceptor that they most prefer who also prefers them will accept their proposal.\n",
    "- The acceptors have no such luck; they might not get their best possible match, because a proposer who is a better match for them might not ever propose to them.\n",
    "\n",
    "What I want to get a handle on is: *how bad is this for the acceptors?* What's the gap in expected utility between the proposers and the acceptors?\n",
    "\n",
    "# Preference Arrays\n",
    "\n",
    "Let's define some preference arrays. `I` is the identity matrix: it says that every proposer number $i$ likes acceptor $i$ best, and dislikes the others equally. `X` is the same as the identity matrix for indexes 0, 1, and 2, but it says that 3 prefers 4 and 4 prefers 3."
   ]
  },
  {
   "cell_type": "code",
   "execution_count": 2,
   "metadata": {},
   "outputs": [],
   "source": [
    "I = [[1, 0, 0, 0, 0],\n",
    "     [0, 1, 0, 0, 0],\n",
    "     [0, 0, 1, 0, 0],\n",
    "     [0, 0, 0, 1, 0],\n",
    "     [0, 0, 0, 0, 1]]\n",
    "\n",
    "X = [[1, 0, 0, 0, 0],\n",
    "     [0, 1, 0, 0, 0],\n",
    "     [0, 0, 1, 0, 0],\n",
    "     [0, 0, 0, 0, 1],\n",
    "     [0, 0, 0, 1, 0]]"
   ]
  },
  {
   "cell_type": "markdown",
   "metadata": {},
   "source": [
    "Let's see what happens when `I` is the proposing side, and when `X` is the proposing side:"
   ]
  },
  {
   "cell_type": "code",
   "execution_count": 3,
   "metadata": {},
   "outputs": [
    {
     "data": {
      "text/plain": [
       "{(0, 0), (1, 1), (2, 2), (3, 3), (4, 4)}"
      ]
     },
     "execution_count": 3,
     "metadata": {},
     "output_type": "execute_result"
    }
   ],
   "source": [
    "stable_matching(I, X)"
   ]
  },
  {
   "cell_type": "code",
   "execution_count": 4,
   "metadata": {},
   "outputs": [
    {
     "data": {
      "text/plain": [
       "{(0, 0), (1, 1), (2, 2), (3, 4), (4, 3)}"
      ]
     },
     "execution_count": 4,
     "metadata": {},
     "output_type": "execute_result"
    }
   ],
   "source": [
    "stable_matching(X, I)"
   ]
  },
  {
   "cell_type": "markdown",
   "metadata": {},
   "source": [
    "When `I` is the proposing side, every actor in `I` gets their first-choice match.\n",
    "\n",
    "Likewise, when `X` is the proposer, every actor in `X` gets their first-choice match.\n",
    "\n",
    "We can measure the average utility to each side for any matching:"
   ]
  },
  {
   "cell_type": "code",
   "execution_count": 5,
   "metadata": {},
   "outputs": [],
   "source": [
    "def mean_utilities(P, A):\n",
    "    \"\"\"The mean utility over all members of P, and the mean utility over all members of A,\n",
    "    for the matching given by stable_matching(P, A).\"\"\"\n",
    "    matching = stable_matching(P, A)\n",
    "    return (mean(P[p][a] for (p, a) in matching),\n",
    "            mean(A[a][p] for (p, a) in matching))"
   ]
  },
  {
   "cell_type": "code",
   "execution_count": 6,
   "metadata": {},
   "outputs": [
    {
     "data": {
      "text/plain": [
       "(1, 0.6)"
      ]
     },
     "execution_count": 6,
     "metadata": {},
     "output_type": "execute_result"
    }
   ],
   "source": [
    "mean_utilities(I, X)"
   ]
  },
  {
   "cell_type": "code",
   "execution_count": 7,
   "metadata": {},
   "outputs": [
    {
     "data": {
      "text/plain": [
       "(1, 0.6)"
      ]
     },
     "execution_count": 7,
     "metadata": {},
     "output_type": "execute_result"
    }
   ],
   "source": [
    "mean_utilities(X, I)"
   ]
  },
  {
   "cell_type": "markdown",
   "metadata": {},
   "source": [
    "# Is it Fair?\n",
    "\n",
    "We see that in both cases, the proposers get 100% of their maximum possible utility, and the acceptors gets only 60% (averaged over all five acceptors). Is this a problem? If the Gale-Shapley algorithm is used in high-stakes applications like matching medical residents to hospitals, does it make a big difference which side is the proposers? I want to address that question with some experiments."
   ]
  },
  {
   "cell_type": "markdown",
   "metadata": {},
   "source": [
    "# Preferences with Common and Private Values\n",
    "\n",
    "I will create a bunch of randomized preference arrays and get a feeling for how they perform. But I don't want them to be completely random; I want them to reflect, in a very abstract way, some properties of the real world:\n",
    "- Some choices have intrinsic properties that make them widely popular (or unpopular). For example, Massachusetts General Hospital is considered an excellent choice by the vast majority of aspiring residents. The amount of utility that is commonly agreed upon is called the **common value** of a choice.\n",
    "- Some choices have ideosyncratic properties that appeal only to specific choosers. For example, you might really like your hometown hospital, even if it is not highly-regarded by others. We call this the **private value** of a choice.\n",
    "- In real world situations there is usually a mix of common and private value.\n",
    "\n",
    "The function call `preferences(N, 0.75)`, for example, creates an NxN array of preferences, where each preference is 75% common value and 25% individual value. I implement individual value as being proportional to the ID number (`a` in the code):"
   ]
  },
  {
   "cell_type": "code",
   "execution_count": 8,
   "metadata": {},
   "outputs": [],
   "source": [
    "def preferences(N=25, c=0.75):\n",
    "    \"\"\"Create an NxN preference array, weighted: c × common + (1 - c) × random.\"\"\"\n",
    "    return [[round(c * (a + 0.5) / N + (1 - c) * random.uniform(0, 1), 4)\n",
    "             for a in range(N)] \n",
    "            for p in range(N)]\n",
    "\n",
    "random.seed(42)"
   ]
  },
  {
   "cell_type": "markdown",
   "metadata": {},
   "source": [
    "Below is a 7x7 preference array that is half common, half private. You can see as you go across a row that the utilities tend to increase, but not always monotonically:"
   ]
  },
  {
   "cell_type": "code",
   "execution_count": 9,
   "metadata": {},
   "outputs": [
    {
     "data": {
      "text/plain": [
       "[[0.3554, 0.1196, 0.3161, 0.3616, 0.6897, 0.7312, 0.9104],\n",
       " [0.0792, 0.3181, 0.1935, 0.3593, 0.5741, 0.4061, 0.5637],\n",
       " [0.3607, 0.3796, 0.2888, 0.5446, 0.7261, 0.3961, 0.8672],\n",
       " [0.3848, 0.2773, 0.2563, 0.7286, 0.4897, 0.4392, 0.5126],\n",
       " [0.4595, 0.409, 0.5821, 0.6149, 0.5895, 0.8794, 0.6536],\n",
       " [0.3117, 0.5218, 0.4878, 0.6809, 0.6101, 0.7451, 0.4872],\n",
       " [0.1497, 0.2518, 0.2185, 0.3664, 0.3719, 0.5318, 0.7821]]"
      ]
     },
     "execution_count": 9,
     "metadata": {},
     "output_type": "execute_result"
    }
   ],
   "source": [
    "preferences(7, 0.5)"
   ]
  },
  {
   "cell_type": "markdown",
   "metadata": {},
   "source": [
    "Here's a preference array with no common value; the utilities are completely random, uncorrelated to their position:"
   ]
  },
  {
   "cell_type": "code",
   "execution_count": 10,
   "metadata": {},
   "outputs": [
    {
     "data": {
      "text/plain": [
       "[[0.3648, 0.3702, 0.2095, 0.267, 0.9367, 0.648, 0.6091],\n",
       " [0.1711, 0.7291, 0.1634, 0.3795, 0.9895, 0.64, 0.5569],\n",
       " [0.6846, 0.8429, 0.776, 0.229, 0.0321, 0.3155, 0.2677],\n",
       " [0.211, 0.9429, 0.8764, 0.3147, 0.6554, 0.3956, 0.9145],\n",
       " [0.4589, 0.2649, 0.2466, 0.5614, 0.2627, 0.5846, 0.8978],\n",
       " [0.3994, 0.2193, 0.9975, 0.5095, 0.0909, 0.0471, 0.1096],\n",
       " [0.6274, 0.7921, 0.4222, 0.0635, 0.3816, 0.9961, 0.5291]]"
      ]
     },
     "execution_count": 10,
     "metadata": {},
     "output_type": "execute_result"
    }
   ],
   "source": [
    "preferences(7, 0.0)"
   ]
  },
  {
   "cell_type": "markdown",
   "metadata": {},
   "source": [
    "And here's a preference array with 100% common value: every row is identical, and the utilities monotonically increase across the row:"
   ]
  },
  {
   "cell_type": "code",
   "execution_count": 11,
   "metadata": {},
   "outputs": [
    {
     "data": {
      "text/plain": [
       "[[0.1, 0.3, 0.5, 0.7, 0.9],\n",
       " [0.1, 0.3, 0.5, 0.7, 0.9],\n",
       " [0.1, 0.3, 0.5, 0.7, 0.9],\n",
       " [0.1, 0.3, 0.5, 0.7, 0.9],\n",
       " [0.1, 0.3, 0.5, 0.7, 0.9]]"
      ]
     },
     "execution_count": 11,
     "metadata": {},
     "output_type": "execute_result"
    }
   ],
   "source": [
    "preferences(5, 1.0)"
   ]
  },
  {
   "cell_type": "markdown",
   "metadata": {},
   "source": [
    "The `preferences` function has been designed so that the average utility value is close to 0.5:"
   ]
  },
  {
   "cell_type": "code",
   "execution_count": 12,
   "metadata": {},
   "outputs": [
    {
     "data": {
      "text/plain": [
       "0.5000443999999999"
      ]
     },
     "execution_count": 12,
     "metadata": {},
     "output_type": "execute_result"
    }
   ],
   "source": [
    "mean(map(mean, preferences(100)))"
   ]
  },
  {
   "cell_type": "markdown",
   "metadata": {},
   "source": [
    "Now for one more helpful function: `examples` returns a list of the form `[(P, A), ...]` where `P` and `A` are preference arrays."
   ]
  },
  {
   "cell_type": "code",
   "execution_count": 13,
   "metadata": {},
   "outputs": [],
   "source": [
    "def examples(N=25, c=0.5, repeat=10000):\n",
    "    \"\"\"A list of pairs of preference arrays, (P, A), of length `repeat`.\"\"\"\n",
    "    return [(preferences(N, c), preferences(N, c)) for _ in range(repeat)]"
   ]
  },
  {
   "cell_type": "code",
   "execution_count": 14,
   "metadata": {},
   "outputs": [
    {
     "data": {
      "text/plain": [
       "[([[0.5238, 0.6412, 0.7176, 0.733],\n",
       "   [0.4411, 0.358, 0.7271, 0.6545],\n",
       "   [0.2763, 0.5521, 0.6802, 0.4661],\n",
       "   [0.1171, 0.3816, 0.6731, 0.7765]],\n",
       "  [[0.4918, 0.6565, 0.5443, 0.7238],\n",
       "   [0.3467, 0.447, 0.3938, 0.6281],\n",
       "   [0.4353, 0.6498, 0.3784, 0.4451],\n",
       "   [0.4623, 0.663, 0.3553, 0.5625]]),\n",
       " ([[0.3339, 0.3563, 0.5098, 0.7453],\n",
       "   [0.2433, 0.5171, 0.7037, 0.8426],\n",
       "   [0.3665, 0.2497, 0.5967, 0.598],\n",
       "   [0.1948, 0.2769, 0.5439, 0.6575]],\n",
       "  [[0.2957, 0.6704, 0.5526, 0.8597],\n",
       "   [0.1714, 0.2168, 0.7819, 0.5757],\n",
       "   [0.3677, 0.3445, 0.3445, 0.5274],\n",
       "   [0.4455, 0.3256, 0.747, 0.5011]])]"
      ]
     },
     "execution_count": 14,
     "metadata": {},
     "output_type": "execute_result"
    }
   ],
   "source": [
    "examples(N=4, repeat=2)"
   ]
  },
  {
   "cell_type": "markdown",
   "metadata": {},
   "source": [
    "# Histograms of Acceptor/Proposer Utility\n",
    "\n",
    "Now we're readsy to answer the original question: how much worse is it to be an acceptor rather than a proposer? The function `show` displays two overlapping histograms of mean utilities: one for acceptors and one for proposers. "
   ]
  },
  {
   "cell_type": "code",
   "execution_count": 15,
   "metadata": {},
   "outputs": [],
   "source": [
    "def show(N=25, c=0.5, repeat=10000, bins=50):\n",
    "    \"\"\"Show two histograms of mean utility values over examples, for proposers and acceptors.\"\"\"\n",
    "    pr, ac = transpose(mean_utilities(P, A) for (P, A) in examples(N, c, repeat))\n",
    "    plt.hist(pr, bins=bins, alpha=0.5)\n",
    "    plt.hist(ac, bins=bins, alpha=0.5);\n",
    "    print(f'''{repeat:,d} examples with N = {N} actors, common factor c = {c}\n",
    "    Acceptors: {mean(ac):4.3f} ± {stdev(ac):4.3f}\n",
    "    Proposers: {mean(pr):4.3f} ± {stdev(pr):4.3f}''')\n",
    "    \n",
    "def transpose(matrix): return list(zip(*matrix))"
   ]
  },
  {
   "cell_type": "markdown",
   "metadata": {},
   "source": [
    "We'll start with preferences that are completely private; no common value:"
   ]
  },
  {
   "cell_type": "code",
   "execution_count": 16,
   "metadata": {},
   "outputs": [
    {
     "name": "stdout",
     "output_type": "stream",
     "text": [
      "10,000 examples with N = 25 actors, common factor c = 0.0\n",
      "    Acceptors: 0.730 ± 0.064\n",
      "    Proposers: 0.870 ± 0.035\n"
     ]
    },
    {
     "data": {
      "image/png": "[encoded data removed]",
      "text/plain": [
       "<Figure size 432x288 with 1 Axes>"
      ]
     },
     "metadata": {
      "needs_background": "light"
     },
     "output_type": "display_data"
    }
   ],
   "source": [
    "show(c=0.0)"
   ]
  },
  {
   "cell_type": "markdown",
   "metadata": {},
   "source": [
    "The acceptors (the orange histogram) have a mean utility of 0.730 while the proposers (blue histogram) do much better with a mean of 0.870. Both sides do much better than the 0.5 average utility that they would average if we just used a random (non-stable) matching. \n",
    "\n",
    "It is clear that proposers do much better than acceptors. That suggests that the `stable_matching` algorithm is very unfair. But before drawing that conclusion, let's consider preferences with a 50/50 mix of private/common value. We'll do that for two different population sizes, 25 and 50:"
   ]
  },
  {
   "cell_type": "code",
   "execution_count": 17,
   "metadata": {},
   "outputs": [
    {
     "name": "stdout",
     "output_type": "stream",
     "text": [
      "10,000 examples with N = 25 actors, common factor c = 0.5\n",
      "    Acceptors: 0.621 ± 0.022\n",
      "    Proposers: 0.638 ± 0.019\n"
     ]
    },
    {
     "data": {
      "image/png": "[encoded data removed]",
      "text/plain": [
       "<Figure size 432x288 with 1 Axes>"
      ]
     },
     "metadata": {
      "needs_background": "light"
     },
     "output_type": "display_data"
    }
   ],
   "source": [
    "show(c=0.5, N=25)"
   ]
  },
  {
   "cell_type": "code",
   "execution_count": 18,
   "metadata": {},
   "outputs": [
    {
     "name": "stdout",
     "output_type": "stream",
     "text": [
      "10,000 examples with N = 50 actors, common factor c = 0.5\n",
      "    Acceptors: 0.647 ± 0.014\n",
      "    Proposers: 0.661 ± 0.012\n"
     ]
    },
    {
     "data": {
      "image/png": "[encoded data removed]",
      "text/plain": [
       "<Figure size 432x288 with 1 Axes>"
      ]
     },
     "metadata": {
      "needs_background": "light"
     },
     "output_type": "display_data"
    }
   ],
   "source": [
    "show(c=0.5, N=50)"
   ]
  },
  {
   "cell_type": "markdown",
   "metadata": {},
   "source": [
    "We see that the gap between proposer and acceptor has been greatly reduced (but not eliminated). With more actors, the variance is smaller (the histogram is not as wide). \n",
    "\n",
    "What happens with 90% common value?"
   ]
  },
  {
   "cell_type": "code",
   "execution_count": 19,
   "metadata": {},
   "outputs": [
    {
     "name": "stdout",
     "output_type": "stream",
     "text": [
      "10,000 examples with N = 25 actors, common factor c = 0.9\n",
      "    Acceptors: 0.509 ± 0.005\n",
      "    Proposers: 0.510 ± 0.005\n"
     ]
    },
    {
     "data": {
      "image/png": "[encoded data removed]",
      "text/plain": [
       "<Figure size 432x288 with 1 Axes>"
      ]
     },
     "metadata": {
      "needs_background": "light"
     },
     "output_type": "display_data"
    }
   ],
   "source": [
    "show(c=0.9)"
   ]
  },
  {
   "cell_type": "markdown",
   "metadata": {},
   "source": [
    "We see that there is very little difference between the two sides. So the conclusion is: when there is a lot of common value, the Gale-Shapley Matching Algorithm is fair. So it is probably okay to use it for matching medical residents, because there is a lot of common value in the perception of the quality of hospitals, and likewise for the quality of students.\n",
    "\n",
    "But when there is mostly private value, the algorithm is unfair, favoring the proposers over the acceptors."
   ]
  }
 ],
 "metadata": {
  "kernelspec": {
   "display_name": "Python 3",
   "language": "python",
   "name": "python3"
  },
  "language_info": {
   "codemirror_mode": {
    "name": "ipython",
    "version": 3
   },
   "file_extension": ".py",
   "mimetype": "text/x-python",
   "name": "python",
   "nbconvert_exporter": "python",
   "pygments_lexer": "ipython3",
   "version": "3.7.7"
  }
 },
 "nbformat": 4,
 "nbformat_minor": 2
}
