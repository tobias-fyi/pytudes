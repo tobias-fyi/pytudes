{
 "cells": [
  {
   "cell_type": "markdown",
   "metadata": {},
   "source": [
    "<div style=\"text-align: right\"><i>Peter Norvig<br>2012<br>Updated 2020</i></div>\n",
    "\n",
    "# Poker: Ranking Hands, etc.\n",
    "\n",
    "\n",
    "The [rules for poker hands](https://en.wikipedia.org/wiki/List_of_poker_hands) are complex, but it is an interesting exercise to write a program to rank poker hands&mdash;to determine if one is higher or lower than another&mdash;as I did in my [Udacity 212](https://www.udacity.com/course/design-of-computer-programs--cs212) course after making a [cheesy video](https://www.youtube.com/watch?v=PI8Fo1vzUPM) with David Evans.  We'll cover only the ranking part of poker, not the betting part. Some key concepts:\n",
    "\n",
    "- **Card**: A card will be represented as a two character string, like `'9c'`, where the first character is the **rank** and the second is the **suit**. The ranks are `23456789TJQKA` in ascending order of value and the suits are `'cdhs'` for clubs, diamonds, hearts, and spades; all suits have equal value in poker. I thought about using the Unicode characters `'♣︎♢♡♠︎'`, but they are hard to find on the keyboard. I also thought of using `(10, 0)` instead of `'Tc'`; the former might allow for a bit faster code, but the later is easier to look at when debugging.\n",
    "- **Hand**: A hand is a sequence of five cards: `['3s', '3c', 'As', 'Ks', 'Qs']`\n",
    "- **Type**: A hand has a ranking **type**; these are (in highest to lowest order): five of a kind, straight flush, four of a kind, full house, flush, straight, three of a kind, two pair, one pair, high card. (Five of a kind can only be made in games with wild cards.)\n",
    "- **Group**: A collection of cards with the same rank: a pair, a three-of-a-kind, etc.\n",
    "- **Winning**: If two hands have different types, the higher type wins. If they have the same type, a **tiebreaker** is needed. For example, the tiebreaker for \"straight\" is the rank of the highest card; a ten-high straight beats a nine-high straight.\n",
    "- **Ranking**: To determine who wins, we assign a **ranking** to each hand; the ranking encompasses the type and tiebreaker. The winner is the hand with the highest ranking. Note that the word **ranking** refers to the value of a *hand*, but **rank** refers to the value of a *card*."
   ]
  },
  {
   "cell_type": "markdown",
   "metadata": {},
   "source": [
    "# Ranking and Integer Partitions\n",
    "\n",
    "There is a curious correspondence between the seven types of poker hands that involve groups and the seven **[integer partitions](https://en.wikipedia.org/wiki/Partition_(number_theory))** of the number 5. \n",
    "\n",
    "Consider this table of ranking types:\n",
    "\n",
    "\n",
    "| Type| # | Example &nbsp; &nbsp; &nbsp; &nbsp; &nbsp;|Partitions |\n",
    "|-|--|---|---|\n",
    "| Five of a kind |9|`As Ac Ah Ad Aj`| (5,) |\n",
    "| Straight flush  |8|`As Ks Qs Ts Js`| |\n",
    "| Four of a kind |7|`7s 7c 7d 2d 7h`|  (4, 1)|\n",
    "| Full house |6| `8h 9c 8d 8c 9h`|     (3, 2)|\n",
    "| Flush |5| `8c Kc Qc Jc Tc`|          |\n",
    "| Straight |4| `Kc Qh Jd Th 9c`|       |\n",
    "| Three of a kind |3| `Ts Tc Th 9s 7c`| (3, 1, 1)|\n",
    "| Two pair |2|  `Ts Tc 9s 9c 7h`|       (2, 2, 1)  |\n",
    "| One pair |1|  `3s 3c As Ks Qs`|          (2, 1, 1, 1)|\n",
    "| High card |0| `2s 4s 5s 6s 7h`|         (1, 1, 1, 1, 1)|\n",
    "\n",
    "The types are sorted from highest to lowest, and the partitions are also sorted in lexicographic order from highest to lowest. The correspondence is that, for example, `(3, 2)` means \"three cards of one rank and two cards of another rank\", which is the definition of a full house. \n",
    "\n",
    "Let's get some preliminaries out of the way so we can start to program a solution for ranking."
   ]
  },
  {
   "cell_type": "code",
   "execution_count": 1,
   "metadata": {},
   "outputs": [],
   "source": [
    "import random\n",
    "import matplotlib.pyplot as plt\n",
    "from collections import Counter\n",
    "from statistics  import mean\n",
    "from itertools   import combinations, permutations, product\n",
    "from functools   import lru_cache"
   ]
  },
  {
   "cell_type": "code",
   "execution_count": 2,
   "metadata": {},
   "outputs": [],
   "source": [
    "# Data Types\n",
    "Card = str              # A card is a str of length 2: '7s'\n",
    "Hand = (list, tuple)    # A hand is 5 cards in either a list or a tuple\n",
    "\n",
    "# Functions and Objects\n",
    "join    = ' '.join        # Function to join cards together into one string\n",
    "cards   = str.split       # Function to split a string apart into a list of cards\n",
    "rankstr = '23456789TJQKA' # Card ranks in ascending order\n",
    "\n",
    "def rank(card) -> int: return rankstr.index(card[0]) + 2\n",
    "def suit(card) -> str: return card[1]"
   ]
  },
  {
   "cell_type": "markdown",
   "metadata": {},
   "source": [
    "A `collections.Counter` does most of the work of finding  groups and thus partitions. It tells us that the following full house has three 8s and two 9s:"
   ]
  },
  {
   "cell_type": "code",
   "execution_count": 3,
   "metadata": {},
   "outputs": [
    {
     "data": {
      "text/plain": [
       "Counter({8: 3, 9: 2})"
      ]
     },
     "execution_count": 3,
     "metadata": {},
     "output_type": "execute_result"
    }
   ],
   "source": [
    "hand = cards('8h 9c 8d 8c 9h')\n",
    "\n",
    "Counter(map(rank, hand))"
   ]
  },
  {
   "cell_type": "markdown",
   "metadata": {},
   "source": [
    "This gives us all the information we need; the problem is that it is not in the right format to compare rankings. We can't  do `counter1 < counter2` because Counters do not support comparison. But we can reformat the information into a tuple consisting of two components: \n",
    " 1. The **type** of hand, full house, which is denoted by the partition `(3, 2)`.\n",
    " 2. The **tiebreakers**: among all full houses, ties go to the highest three-of-a-kind card, and if those are the same, then the highest pair card. So the tiebreaker for this hand would be `(8, 9)`. (Even though 9 > 8, the 8 comes first because the three-of-a-kind is more important than the pair.)\n",
    "\n",
    "Thus the complete ranking for this hand is the tuple `((3, 2), (8, 9))`. The same information as in the Counter, but in the proper order for sorting.\n",
    "\n",
    "So (ignoring straights and flushes for now) here's how we do  `ranking`:"
   ]
  },
  {
   "cell_type": "code",
   "execution_count": 4,
   "metadata": {},
   "outputs": [],
   "source": [
    "def ranking(hand) -> tuple:\n",
    "    \"\"\"Return a (type, tiebreaker) tuple indicating how high the hand ranks.\"\"\"\n",
    "    counts = Counter(map(rank, hand))\n",
    "    groups = sorted(((counts[r], r) for r in counts), reverse=True)\n",
    "    return tuple(zip(*groups))"
   ]
  },
  {
   "cell_type": "markdown",
   "metadata": {},
   "source": [
    "Here is the process step by step:"
   ]
  },
  {
   "cell_type": "code",
   "execution_count": 5,
   "metadata": {},
   "outputs": [
    {
     "data": {
      "text/plain": [
       "Counter({8: 3, 9: 2})"
      ]
     },
     "execution_count": 5,
     "metadata": {},
     "output_type": "execute_result"
    }
   ],
   "source": [
    "counts = Counter(map(rank, hand))\n",
    "counts"
   ]
  },
  {
   "cell_type": "code",
   "execution_count": 6,
   "metadata": {},
   "outputs": [
    {
     "data": {
      "text/plain": [
       "[(3, 8), (2, 9)]"
      ]
     },
     "execution_count": 6,
     "metadata": {},
     "output_type": "execute_result"
    }
   ],
   "source": [
    "groups = sorted(((counts[r], r) for r in counts), reverse=True)\n",
    "groups"
   ]
  },
  {
   "cell_type": "code",
   "execution_count": 7,
   "metadata": {},
   "outputs": [
    {
     "data": {
      "text/plain": [
       "((3, 2), (8, 9))"
      ]
     },
     "execution_count": 7,
     "metadata": {},
     "output_type": "execute_result"
    }
   ],
   "source": [
    "tuple(zip(*groups))"
   ]
  },
  {
   "cell_type": "markdown",
   "metadata": {},
   "source": [
    "Notice that this final result is the **matrix transpose** (switching rows and columns) of  `groups`. In Python the transpose of `m` is `zip(*m)`.\n",
    "\n",
    "Below we see that the eights-over-nines full house beats a six-over-tens full house (it doesn't matter that 10 > 9; what matters is 8 > 6):"
   ]
  },
  {
   "cell_type": "code",
   "execution_count": 8,
   "metadata": {},
   "outputs": [],
   "source": [
    "hand2 = cards('6h 6c 6d Tc Th')"
   ]
  },
  {
   "cell_type": "code",
   "execution_count": 9,
   "metadata": {},
   "outputs": [
    {
     "data": {
      "text/plain": [
       "((3, 2), (8, 9))"
      ]
     },
     "execution_count": 9,
     "metadata": {},
     "output_type": "execute_result"
    }
   ],
   "source": [
    "ranking(hand)"
   ]
  },
  {
   "cell_type": "code",
   "execution_count": 10,
   "metadata": {},
   "outputs": [
    {
     "data": {
      "text/plain": [
       "((3, 2), (6, 10))"
      ]
     },
     "execution_count": 10,
     "metadata": {},
     "output_type": "execute_result"
    }
   ],
   "source": [
    "ranking(hand2)"
   ]
  },
  {
   "cell_type": "code",
   "execution_count": 11,
   "metadata": {},
   "outputs": [
    {
     "data": {
      "text/plain": [
       "True"
      ]
     },
     "execution_count": 11,
     "metadata": {},
     "output_type": "execute_result"
    }
   ],
   "source": [
    "ranking(hand) > ranking(hand2)"
   ]
  },
  {
   "cell_type": "markdown",
   "metadata": {},
   "source": [
    "# Ranking Straights and Flushes\n",
    "\n",
    "It is a cute mathematical result that poker rankings correspond to the integer partitions of 5, but the correspondence does not account for straights and flushes. Still, we can salvage the approach by inventing \"type tuples\" for straight, flush, and straight flush that are not partitions but are in the correct sort order with respect to the seven actual partitions. There are many possible choices; my choices, shown in **bold** below, are to look at the type one row below and add 1 to the last digit: one better than `(3, 1, 1)` is `(3, 1, 2)`; one better than `(4, 1)` is `(4, 2)`.\n",
    "\n",
    "\n",
    "| Type| # | Example &nbsp; &nbsp; &nbsp; &nbsp; &nbsp;|Type tuple |\n",
    "|-|--|---|---|\n",
    "| Five of a kind |9|`As Ac Ah Ad Aj`| (5,) |\n",
    "| Straight flush  |8|`As Ks Qs Ts Js`| **(4, 2)**|\n",
    "| Four of a kind |7|`7s 7c 7d 2d 7h`|  (4, 1)|\n",
    "| Full house |6| `8h 9c 8d 8c 9h`|     (3, 2)|\n",
    "| Flush |5| `8c Kc Qc Jc Tc`|  **(3, 1, 3)**        |\n",
    "| Straight |4| `Kc Qh Jd Th 9c`| **(3, 1, 2)**      |\n",
    "| Three of a kind |3| `Ts Tc Th 9s 7c`| (3, 1, 1)|\n",
    "| Two pair |2|  `Ts Tc 9s 9c 7h`|       (2, 2, 1)  |\n",
    "| One pair |1|  `3s 3c As Ks Qs`|          (2, 1, 1, 1)|\n",
    "| High card |0| `2s 4s 5s 6s 7h`|         (1, 1, 1, 1, 1)|\n",
    "\n",
    "It is easy to code this up; the function `special_type` handles  flushes and straights, and `rankings` uses the special type or the regular type. Another complication is that in poker aces are not always high: If we have a 5-4-3-2-A hand, the ace serves as a `1` rather than a `14`; we adjust `ranks` accordingly in `rankings`. To test for a flush, we look at the collection of suits and ask if they are all `the_same`."
   ]
  },
  {
   "cell_type": "code",
   "execution_count": 12,
   "metadata": {},
   "outputs": [],
   "source": [
    "def ranking(hand) -> tuple:\n",
    "    \"\"\"Return a value indicating how high the hand ranks.\"\"\"\n",
    "    counts = Counter(map(rank, hand))\n",
    "    groups = sorted(((counts[r], r) for r in counts), reverse=True)\n",
    "    type, ranks = zip(*groups)\n",
    "    if ranks == (14, 5, 4, 3, 2):\n",
    "        ranks = (5, 4, 3, 2, 1)\n",
    "    return special_type(hand, ranks) or type, ranks\n",
    "\n",
    "def special_type(hand, ranks) -> tuple:\n",
    "    \"\"\"For a flush or straight, return a tuple comparable with `type` in `ranking`.\"\"\"\n",
    "    straight = len(ranks) == 5 and max(ranks) - min(ranks) == 4\n",
    "    flush    = the_same(map(suit, hand))\n",
    "    return ((4, 2)    if straight and flush else \n",
    "            (3, 1, 3) if flush else \n",
    "            (3, 1, 2) if straight else ())\n",
    "\n",
    "def the_same(things) -> bool: return len(set(things)) <= 1"
   ]
  },
  {
   "cell_type": "markdown",
   "metadata": {},
   "source": [
    "# Testing Poker Hands\n",
    "\n",
    "Below is a list of `hands`, with four examples of each **type**, all in descending ranking order (i.e. best to worst).  The `test` function asserts that (1) the `ranking` function agrees with this ordering; (2) the order of cards within a hand does not matter&mdash;every permutation of cards is ranked the same; and (3) swapping the suits around (e.g. swapping every spade with every club) does not change the ranking."
   ]
  },
  {
   "cell_type": "code",
   "execution_count": 13,
   "metadata": {},
   "outputs": [],
   "source": [
    "hands = [cards(h) for h in (           \n",
    "    'As Ac Ah Ad Ad', 'Kh Kd Ks Kc Kh', '3h 3s 3d 3c 3c', '2s 2c 2d 2h 2h', # 5 of a kind     \n",
    "    'As Ks Qs Ts Js', 'Kc Qc Jc Tc 9c', '6d 5d 4d 3d 2d', '5h 4h 3h 2h Ah', # straight flush  \n",
    "    'As Ac Ad Ah 2s', '7s 7c 7d 2d 7h', '6s 6c 6d 6h 9s', 'As 5h 5c 5d 5s', # four of a kind \n",
    "    'Th Tc Td 5h 5c', '9h 9c 9d 8c 8h', '6h 6c 6d Tc Th', '5c 5d 5s As Ah', # full house\n",
    "    'As 2s 3s 4s 6s', 'Kc Qc Jc Tc 2c', 'Qc Jc Tc 9c 7c', '4h 5h 6h 7h 9h', # flush\n",
    "    'As Kd Qc Td Jh', 'Kc Qh Jd Th 9c', '6c 5d 4h 3s 2s', 'As 2d 3c 4h 5s', # straight\n",
    "    'As Ac Ad 2h 3h', 'Ts Tc Th 9s 8c', 'Ts Tc Th 9s 7c', '9h 9s 9d Ah Kh', # three of a kind\n",
    "    'Ts Tc 5s 5c 8h', 'Ts Tc 5s 5c 7h', '9s 9c 8s 8c As', '3s 3c 2s 2d Ah', # two pair \n",
    "    'As Ac 4c 5s 6s', '4s 4c As Ks Qs', '4h 4d Kh Qd Jd', '2d 2c Ad Kd Qd', # pair \n",
    "    'Ah 3s 4s 5s 6s', 'Kh Qh Jh Th 8d', '7d 2s 4s 5s 6s', '7h 6s 5d 3s 2d', # high card\n",
    "         )]\n",
    "\n",
    "def test(ranking, hands=hands) -> bool:\n",
    "    \"\"\"Test that `ranking` preserves order of `hands`, and that permuting cards is irrelevant.\"\"\"\n",
    "    assert hands == sorted(hands, key=ranking, reverse=True)\n",
    "    trans = str.maketrans('shdc', 'cdhs')\n",
    "    for hand in hands: \n",
    "        assert the_same(ranking(h) for h in permutations(hand))\n",
    "        assert the_same([ranking(hand), ranking([c.translate(trans) for c in hand])])\n",
    "    return len(hands)"
   ]
  },
  {
   "cell_type": "code",
   "execution_count": 14,
   "metadata": {},
   "outputs": [
    {
     "data": {
      "text/plain": [
       "40"
      ]
     },
     "execution_count": 14,
     "metadata": {},
     "output_type": "execute_result"
    }
   ],
   "source": [
    "test(ranking)"
   ]
  },
  {
   "cell_type": "markdown",
   "metadata": {},
   "source": [
    "Let's see what rankings look like:"
   ]
  },
  {
   "cell_type": "code",
   "execution_count": 15,
   "metadata": {},
   "outputs": [
    {
     "data": {
      "text/plain": [
       "{'As Ac Ah Ad Ad': ((5,), (14,)),\n",
       " 'Kh Kd Ks Kc Kh': ((5,), (13,)),\n",
       " '3h 3s 3d 3c 3c': ((5,), (3,)),\n",
       " '2s 2c 2d 2h 2h': ((5,), (2,)),\n",
       " 'As Ks Qs Ts Js': ((4, 2), (14, 13, 12, 11, 10)),\n",
       " 'Kc Qc Jc Tc 9c': ((4, 2), (13, 12, 11, 10, 9)),\n",
       " '6d 5d 4d 3d 2d': ((4, 2), (6, 5, 4, 3, 2)),\n",
       " '5h 4h 3h 2h Ah': ((4, 2), (5, 4, 3, 2, 1)),\n",
       " 'As Ac Ad Ah 2s': ((4, 1), (14, 2)),\n",
       " '7s 7c 7d 2d 7h': ((4, 1), (7, 2)),\n",
       " '6s 6c 6d 6h 9s': ((4, 1), (6, 9)),\n",
       " 'As 5h 5c 5d 5s': ((4, 1), (5, 14)),\n",
       " 'Th Tc Td 5h 5c': ((3, 2), (10, 5)),\n",
       " '9h 9c 9d 8c 8h': ((3, 2), (9, 8)),\n",
       " '6h 6c 6d Tc Th': ((3, 2), (6, 10)),\n",
       " '5c 5d 5s As Ah': ((3, 2), (5, 14)),\n",
       " 'As 2s 3s 4s 6s': ((3, 1, 3), (14, 6, 4, 3, 2)),\n",
       " 'Kc Qc Jc Tc 2c': ((3, 1, 3), (13, 12, 11, 10, 2)),\n",
       " 'Qc Jc Tc 9c 7c': ((3, 1, 3), (12, 11, 10, 9, 7)),\n",
       " '4h 5h 6h 7h 9h': ((3, 1, 3), (9, 7, 6, 5, 4)),\n",
       " 'As Kd Qc Td Jh': ((3, 1, 2), (14, 13, 12, 11, 10)),\n",
       " 'Kc Qh Jd Th 9c': ((3, 1, 2), (13, 12, 11, 10, 9)),\n",
       " '6c 5d 4h 3s 2s': ((3, 1, 2), (6, 5, 4, 3, 2)),\n",
       " 'As 2d 3c 4h 5s': ((3, 1, 2), (5, 4, 3, 2, 1)),\n",
       " 'As Ac Ad 2h 3h': ((3, 1, 1), (14, 3, 2)),\n",
       " 'Ts Tc Th 9s 8c': ((3, 1, 1), (10, 9, 8)),\n",
       " 'Ts Tc Th 9s 7c': ((3, 1, 1), (10, 9, 7)),\n",
       " '9h 9s 9d Ah Kh': ((3, 1, 1), (9, 14, 13)),\n",
       " 'Ts Tc 5s 5c 8h': ((2, 2, 1), (10, 5, 8)),\n",
       " 'Ts Tc 5s 5c 7h': ((2, 2, 1), (10, 5, 7)),\n",
       " '9s 9c 8s 8c As': ((2, 2, 1), (9, 8, 14)),\n",
       " '3s 3c 2s 2d Ah': ((2, 2, 1), (3, 2, 14)),\n",
       " 'As Ac 4c 5s 6s': ((2, 1, 1, 1), (14, 6, 5, 4)),\n",
       " '4s 4c As Ks Qs': ((2, 1, 1, 1), (4, 14, 13, 12)),\n",
       " '4h 4d Kh Qd Jd': ((2, 1, 1, 1), (4, 13, 12, 11)),\n",
       " '2d 2c Ad Kd Qd': ((2, 1, 1, 1), (2, 14, 13, 12)),\n",
       " 'Ah 3s 4s 5s 6s': ((1, 1, 1, 1, 1), (14, 6, 5, 4, 3)),\n",
       " 'Kh Qh Jh Th 8d': ((1, 1, 1, 1, 1), (13, 12, 11, 10, 8)),\n",
       " '7d 2s 4s 5s 6s': ((1, 1, 1, 1, 1), (7, 6, 5, 4, 2)),\n",
       " '7h 6s 5d 3s 2d': ((1, 1, 1, 1, 1), (7, 6, 5, 3, 2))}"
      ]
     },
     "execution_count": 15,
     "metadata": {},
     "output_type": "execute_result"
    }
   ],
   "source": [
    "{join(h): ranking(h) for h in hands}"
   ]
  },
  {
   "cell_type": "markdown",
   "metadata": {},
   "source": [
    "# Alternative Definition: `ranking2`\n",
    "\n",
    "If you think dealing with integer partitions of 5 was a little too abstract, and/or that fabricating `(3, 1, 3)` as the type for a flush was a little too *ad hoc*, then here's an alternative ranking function, `ranking2`, that you might find more straightforward. Instead of type tuples, it uses the integers 9 to 0 for types, and then does tiebreakers in the same way as `ranking`.\n",
    "\n",
    "The one tricky part is the use of `kinds/kind`: for a two-pair hand `8h 9c 8d 9d 4h`, `kinds` will be the list `[[], [4], [9, 8], [], [], []]`, and `kinds[2]` is `[9, 8]` (meaning: what ranks have 2 of a kind? 9 and 8, with the highest rank always first), and `kind(1)` is `4` (meaning: what rank has one of a kind? 4). "
   ]
  },
  {
   "cell_type": "code",
   "execution_count": 16,
   "metadata": {},
   "outputs": [],
   "source": [
    "def ranking2(hand) -> tuple:\n",
    "    \"\"\"Return a value indicating how high the hand ranks.\"\"\"\n",
    "    ranks = sorted(map(rank, hand), reverse=True)\n",
    "    if ranks == [14, 5, 4, 3, 2]:\n",
    "        ranks = [5, 4, 3, 2, 1]\n",
    "    straight = len(set(ranks)) == 5 and max(ranks) - min(ranks) == 4\n",
    "    flush    = the_same(map(suit, hand))\n",
    "    kinds    = [[] for n in range(6)]\n",
    "    kind     = lambda n: kinds[n][0]\n",
    "    for r in sorted(set(ranks), reverse=True):\n",
    "        kinds[ranks.count(r)].append(r)\n",
    "    return ((9, max(ranks))         if kinds[5] else\n",
    "            (8, max(ranks))         if straight and flush else\n",
    "            (7, kind(4), kind(1))   if kinds[4] else\n",
    "            (6, kind(3), kind(2))   if kinds[3] and kinds[2] else\n",
    "            (5, *ranks)             if flush else\n",
    "            (4, max(ranks))         if straight else\n",
    "            (3, kind(3), *kinds[1]) if kinds[3] else\n",
    "            (2, *kinds[2], kind(1)) if len(kinds[2]) == 2 else\n",
    "            (1, kind(2), *kinds[1]) if kinds[2] else\n",
    "            (0, *ranks))"
   ]
  },
  {
   "cell_type": "markdown",
   "metadata": {},
   "source": [
    "`ranking2` passes the tests:"
   ]
  },
  {
   "cell_type": "code",
   "execution_count": 17,
   "metadata": {},
   "outputs": [
    {
     "data": {
      "text/plain": [
       "40"
      ]
     },
     "execution_count": 17,
     "metadata": {},
     "output_type": "execute_result"
    }
   ],
   "source": [
    "test(ranking2, hands)"
   ]
  },
  {
   "cell_type": "markdown",
   "metadata": {},
   "source": [
    "Here are what the `ranking2` rankings look like&mdash;a little more concise:"
   ]
  },
  {
   "cell_type": "code",
   "execution_count": 18,
   "metadata": {},
   "outputs": [
    {
     "data": {
      "text/plain": [
       "{'As Ac Ah Ad Ad': (9, 14),\n",
       " 'Kh Kd Ks Kc Kh': (9, 13),\n",
       " '3h 3s 3d 3c 3c': (9, 3),\n",
       " '2s 2c 2d 2h 2h': (9, 2),\n",
       " 'As Ks Qs Ts Js': (8, 14),\n",
       " 'Kc Qc Jc Tc 9c': (8, 13),\n",
       " '6d 5d 4d 3d 2d': (8, 6),\n",
       " '5h 4h 3h 2h Ah': (8, 5),\n",
       " 'As Ac Ad Ah 2s': (7, 14, 2),\n",
       " '7s 7c 7d 2d 7h': (7, 7, 2),\n",
       " '6s 6c 6d 6h 9s': (7, 6, 9),\n",
       " 'As 5h 5c 5d 5s': (7, 5, 14),\n",
       " 'Th Tc Td 5h 5c': (6, 10, 5),\n",
       " '9h 9c 9d 8c 8h': (6, 9, 8),\n",
       " '6h 6c 6d Tc Th': (6, 6, 10),\n",
       " '5c 5d 5s As Ah': (6, 5, 14),\n",
       " 'As 2s 3s 4s 6s': (5, 14, 6, 4, 3, 2),\n",
       " 'Kc Qc Jc Tc 2c': (5, 13, 12, 11, 10, 2),\n",
       " 'Qc Jc Tc 9c 7c': (5, 12, 11, 10, 9, 7),\n",
       " '4h 5h 6h 7h 9h': (5, 9, 7, 6, 5, 4),\n",
       " 'As Kd Qc Td Jh': (4, 14),\n",
       " 'Kc Qh Jd Th 9c': (4, 13),\n",
       " '6c 5d 4h 3s 2s': (4, 6),\n",
       " 'As 2d 3c 4h 5s': (4, 5),\n",
       " 'As Ac Ad 2h 3h': (3, 14, 3, 2),\n",
       " 'Ts Tc Th 9s 8c': (3, 10, 9, 8),\n",
       " 'Ts Tc Th 9s 7c': (3, 10, 9, 7),\n",
       " '9h 9s 9d Ah Kh': (3, 9, 14, 13),\n",
       " 'Ts Tc 5s 5c 8h': (2, 10, 5, 8),\n",
       " 'Ts Tc 5s 5c 7h': (2, 10, 5, 7),\n",
       " '9s 9c 8s 8c As': (2, 9, 8, 14),\n",
       " '3s 3c 2s 2d Ah': (2, 3, 2, 14),\n",
       " 'As Ac 4c 5s 6s': (1, 14, 6, 5, 4),\n",
       " '4s 4c As Ks Qs': (1, 4, 14, 13, 12),\n",
       " '4h 4d Kh Qd Jd': (1, 4, 13, 12, 11),\n",
       " '2d 2c Ad Kd Qd': (1, 2, 14, 13, 12),\n",
       " 'Ah 3s 4s 5s 6s': (0, 14, 6, 5, 4, 3),\n",
       " 'Kh Qh Jh Th 8d': (0, 13, 12, 11, 10, 8),\n",
       " '7d 2s 4s 5s 6s': (0, 7, 6, 5, 4, 2),\n",
       " '7h 6s 5d 3s 2d': (0, 7, 6, 5, 3, 2)}"
      ]
     },
     "execution_count": 18,
     "metadata": {},
     "output_type": "execute_result"
    }
   ],
   "source": [
    "{join(h): ranking2(h) for h in hands}"
   ]
  },
  {
   "cell_type": "markdown",
   "metadata": {},
   "source": [
    "# Timing\n",
    "\n",
    "Below we see that `ranking2` is about 15% faster than `ranking`, so use `ranking2` when speed is important."
   ]
  },
  {
   "cell_type": "code",
   "execution_count": 19,
   "metadata": {},
   "outputs": [
    {
     "name": "stdout",
     "output_type": "stream",
     "text": [
      "31.1 ms ± 4.34 ms per loop (mean ± std. dev. of 7 runs, 10 loops each)\n",
      "27.1 ms ± 3.48 ms per loop (mean ± std. dev. of 7 runs, 10 loops each)\n"
     ]
    }
   ],
   "source": [
    "%timeit test(ranking,  hands)\n",
    "%timeit test(ranking2, hands)"
   ]
  },
  {
   "cell_type": "markdown",
   "metadata": {},
   "source": [
    "# Winning\n",
    "\n",
    "It is tempting to define a function `winner(hands) -> Hand` to see who wins a round, and we will do that, for convenience. But in poker if two hands are exactly the same except for suits, then they tie. So to be more precise we will also define `winners(hand)` to return a *set* of winners (which in most cases will have only one member).\n",
    "\n",
    "Note that **ranking** is the fundamental idea, and **winning** is determined by ranking. Some programmers try to answer the question of whether one hand is better than another by defining `better(hand1, hand2)`. They quickly find that it is hopelessly complex to be considering two hands at the same time, asking things like \"this hand has three of a kind; does the other hand have anything better?\"  It is much simpler to compare rankings. \n",
    "\n",
    "Also note that using the word **ranking** rather than **scoring** is deliberate. If we were doing scoring, it would make sense to ask for an average score for a set of hands. With ranking, we can sort hands from best to worst, but it makes no sense to say a straight (type 4) and a straight flush (type 8) average out to a full house (type 6).\n"
   ]
  },
  {
   "cell_type": "code",
   "execution_count": 20,
   "metadata": {},
   "outputs": [],
   "source": [
    "def winner(hands) -> Hand: \n",
    "    \"\"\"One of the winning hands (there might be others).\"\"\"\n",
    "    return max(hands, key=ranking2)\n",
    "\n",
    "def winners(hands) -> set:\n",
    "    \"\"\"The set of hands with the best ranking.\"\"\"\n",
    "    best = max(map(ranking2, hands))\n",
    "    return {h for h in hands if ranking2(h) == best}"
   ]
  },
  {
   "cell_type": "markdown",
   "metadata": {},
   "source": [
    "# Type Names\n",
    "\n",
    "So far, the names of the types (e.g. \"full house\") have appeared only in prose, not in the code. Let's fix that. We'll take advantage of the fact that the first element of the tuple returned by `ranking2` is an integer ranging from 0 to 9 that can be used as an index into a tuple of `type_names`:"
   ]
  },
  {
   "cell_type": "code",
   "execution_count": 21,
   "metadata": {},
   "outputs": [],
   "source": [
    "types = range(10)\n",
    "\n",
    "type_names = ('high card', 'one pair', 'two pair', 'three of a kind', 'straight',\n",
    "  'flush', 'full house', 'four of a kind', 'straight flush', 'five of a kind')\n",
    "\n",
    "def type_name(hand) -> str: return type_names[ranking2(hand)[0]]"
   ]
  },
  {
   "cell_type": "code",
   "execution_count": 22,
   "metadata": {},
   "outputs": [
    {
     "data": {
      "text/plain": [
       "{'As Ac Ah Ad Ad': 'five of a kind',\n",
       " 'Kh Kd Ks Kc Kh': 'five of a kind',\n",
       " '3h 3s 3d 3c 3c': 'five of a kind',\n",
       " '2s 2c 2d 2h 2h': 'five of a kind',\n",
       " 'As Ks Qs Ts Js': 'straight flush',\n",
       " 'Kc Qc Jc Tc 9c': 'straight flush',\n",
       " '6d 5d 4d 3d 2d': 'straight flush',\n",
       " '5h 4h 3h 2h Ah': 'straight flush',\n",
       " 'As Ac Ad Ah 2s': 'four of a kind',\n",
       " '7s 7c 7d 2d 7h': 'four of a kind',\n",
       " '6s 6c 6d 6h 9s': 'four of a kind',\n",
       " 'As 5h 5c 5d 5s': 'four of a kind',\n",
       " 'Th Tc Td 5h 5c': 'full house',\n",
       " '9h 9c 9d 8c 8h': 'full house',\n",
       " '6h 6c 6d Tc Th': 'full house',\n",
       " '5c 5d 5s As Ah': 'full house',\n",
       " 'As 2s 3s 4s 6s': 'flush',\n",
       " 'Kc Qc Jc Tc 2c': 'flush',\n",
       " 'Qc Jc Tc 9c 7c': 'flush',\n",
       " '4h 5h 6h 7h 9h': 'flush',\n",
       " 'As Kd Qc Td Jh': 'straight',\n",
       " 'Kc Qh Jd Th 9c': 'straight',\n",
       " '6c 5d 4h 3s 2s': 'straight',\n",
       " 'As 2d 3c 4h 5s': 'straight',\n",
       " 'As Ac Ad 2h 3h': 'three of a kind',\n",
       " 'Ts Tc Th 9s 8c': 'three of a kind',\n",
       " 'Ts Tc Th 9s 7c': 'three of a kind',\n",
       " '9h 9s 9d Ah Kh': 'three of a kind',\n",
       " 'Ts Tc 5s 5c 8h': 'two pair',\n",
       " 'Ts Tc 5s 5c 7h': 'two pair',\n",
       " '9s 9c 8s 8c As': 'two pair',\n",
       " '3s 3c 2s 2d Ah': 'two pair',\n",
       " 'As Ac 4c 5s 6s': 'one pair',\n",
       " '4s 4c As Ks Qs': 'one pair',\n",
       " '4h 4d Kh Qd Jd': 'one pair',\n",
       " '2d 2c Ad Kd Qd': 'one pair',\n",
       " 'Ah 3s 4s 5s 6s': 'high card',\n",
       " 'Kh Qh Jh Th 8d': 'high card',\n",
       " '7d 2s 4s 5s 6s': 'high card',\n",
       " '7h 6s 5d 3s 2d': 'high card'}"
      ]
     },
     "execution_count": 22,
     "metadata": {},
     "output_type": "execute_result"
    }
   ],
   "source": [
    "{join(h): type_name(h) for h in hands}"
   ]
  },
  {
   "cell_type": "markdown",
   "metadata": {},
   "source": [
    "# Poker Variants\n",
    "\n",
    "There are many variants of poker. In some  variants a player makes a hand by combining face-down private cards that they hold, called **hole cards**, with face-up shared cards in the middle of the table called **community cards**. Let's look at a few variants from the point of view of card ranking. Again, we'll ignore the betting parts.\n",
    "\n",
    "# Texas Hold 'Em  Poker\n",
    "\n",
    "In Texas Hold 'Em, one of the most popular games, each player has two  hole cards, and everyone shares five community cards. A player can choose any subset of the seven cards for their hand. \n",
    "\n",
    "Finding the best hand from among the hole and community cards is straightforward: just try every combination and choose a hand with the maximum ranking (that's what the function `winner` does):"
   ]
  },
  {
   "cell_type": "code",
   "execution_count": 23,
   "metadata": {},
   "outputs": [],
   "source": [
    "def texas_best(hole, community) -> Hand:\n",
    "    \"\"\"Find the best hand from any selection of 2 hole and 5 community cards.\"\"\"\n",
    "    assert len(hole) == 2 and len(community) == 5\n",
    "    return winner(combinations(hole + community, 5))"
   ]
  },
  {
   "cell_type": "markdown",
   "metadata": {},
   "source": [
    "A player can make a full house with the following hole cards and community cards:"
   ]
  },
  {
   "cell_type": "code",
   "execution_count": 24,
   "metadata": {},
   "outputs": [
    {
     "data": {
      "text/plain": [
       "('As', '7d', 'Ac', 'Ah', '7c')"
      ]
     },
     "execution_count": 24,
     "metadata": {},
     "output_type": "execute_result"
    }
   ],
   "source": [
    "texas_best(cards('As 7d'), cards('Ac 8d 9d Ah 7c'))"
   ]
  },
  {
   "cell_type": "markdown",
   "metadata": {},
   "source": [
    "# Omaha Hold 'Em Poker\n",
    "\n",
    "In Omaha Hold 'Em, players get four hole cards, and they have to use exactly two of them, plus three of the five community cards, to make their hand. Not quite as straightforward to find the best hand:"
   ]
  },
  {
   "cell_type": "code",
   "execution_count": 25,
   "metadata": {},
   "outputs": [],
   "source": [
    "def omaha_best(hole, community) -> Hand:\n",
    "    \"\"\"Find the best hand using 2 of 4 hole cards and 3 of 5 community cards.\"\"\"\n",
    "    assert len(hole) == 4 and len(community) == 5\n",
    "    return winner(h2 + c3 for h2 in combinations(hole, 2) \n",
    "                          for c3 in combinations(community, 3))"
   ]
  },
  {
   "cell_type": "code",
   "execution_count": 26,
   "metadata": {},
   "outputs": [
    {
     "data": {
      "text/plain": [
       "('As', '7d', 'Ac', 'Ah', '7c')"
      ]
     },
     "execution_count": 26,
     "metadata": {},
     "output_type": "execute_result"
    }
   ],
   "source": [
    "omaha_best(cards('As 7d 6d 5d'), cards('Ac 8d 9d Ah 7c'))"
   ]
  },
  {
   "cell_type": "markdown",
   "metadata": {},
   "source": [
    "In the following hand, the hole plus community cards include a royal straight flush and a fives-over-tens full house. But neither of these hands can be made because the hand must have exactly two hole cards, so we end up with three fives."
   ]
  },
  {
   "cell_type": "code",
   "execution_count": 27,
   "metadata": {},
   "outputs": [
    {
     "data": {
      "text/plain": [
       "('Ad', '5d', 'Jd', '5c', '5h')"
      ]
     },
     "execution_count": 27,
     "metadata": {},
     "output_type": "execute_result"
    }
   ],
   "source": [
    "omaha_best(cards('Ad Kd Qd 5d'), cards('Jd Td Tc 5c 5h'))"
   ]
  },
  {
   "cell_type": "markdown",
   "metadata": {},
   "source": [
    "# Three-D Poker\n",
    "\n",
    "In this novel variant, due to Bram Cohen, there are two hole cards and 15 community cards arranged in three sets of five. Players must use their two hole cards, plus exactly one card from each of the three sets of community cards."
   ]
  },
  {
   "cell_type": "code",
   "execution_count": 28,
   "metadata": {},
   "outputs": [],
   "source": [
    "def threeD_best(hole, community) -> Hand:\n",
    "    \"\"\"Find the best hand from the 2 hole cards plus 1 each from \n",
    "    the first 5, middle 5, and last 5 of the 15 community cards.\"\"\"\n",
    "    assert len(hole) == 2 and len(community) == 15\n",
    "    A, B, C = community[0:5], community[5:10], community[10:15]\n",
    "    return winner([*hole, *c3] for c3 in product(A, B, C))"
   ]
  },
  {
   "cell_type": "markdown",
   "metadata": {},
   "source": [
    "In the example below, the player has a queen hole card and there are two queen community cards, but they are in the same set, so the player could only get one of them. It turns out that it is better to give up on the idea of three queens and take two kings and a 4 instead, making two pair."
   ]
  },
  {
   "cell_type": "code",
   "execution_count": 29,
   "metadata": {},
   "outputs": [
    {
     "data": {
      "text/plain": [
       "['Qh', '4s', 'Kd', '4h', 'Kc']"
      ]
     },
     "execution_count": 29,
     "metadata": {},
     "output_type": "execute_result"
    }
   ],
   "source": [
    "threeD_best(cards('Qh 4s'), cards('Qs Qc Kd Ts Ah    5d 4h 7s 9c 6s    5h 7c Kc Kh 9h'))"
   ]
  },
  {
   "cell_type": "markdown",
   "metadata": {},
   "source": [
    "# Joker Poker\n",
    "\n",
    "Sometimes in friendly house games, a joker or two is added to the deck. A joker can serve as any card the player wants it to be, including a card already in their hand (that's how you get five-of-a-kind)."
   ]
  },
  {
   "cell_type": "code",
   "execution_count": 30,
   "metadata": {},
   "outputs": [],
   "source": [
    "joker ='**'\n",
    "deck  = [r + s for r in rankstr for s in 'cdhs'] # Regular Deck of 52 cards\n",
    "jdeck = [joker, joker, *deck] # Deck of 54 cards including two jokers\n",
    "\n",
    "def joker_best(hand) -> Hand:\n",
    "    \"\"\"Find the best hand by replacing any jokers with any other card.\"\"\"\n",
    "    replacements = [deck if card == joker else [card] for card in hand]\n",
    "    return winner(product(*replacements))"
   ]
  },
  {
   "cell_type": "code",
   "execution_count": 31,
   "metadata": {},
   "outputs": [
    {
     "data": {
      "text/plain": [
       "('8d', '8c', '7d', '6d', '8s')"
      ]
     },
     "execution_count": 31,
     "metadata": {},
     "output_type": "execute_result"
    }
   ],
   "source": [
    "joker_best(cards('8d ** 7d 6d 8s')) # One Joker used to make three of a kind"
   ]
  },
  {
   "cell_type": "code",
   "execution_count": 32,
   "metadata": {},
   "outputs": [
    {
     "data": {
      "text/plain": [
       "('8d', '9d', '7d', '6d', 'Td')"
      ]
     },
     "execution_count": 32,
     "metadata": {},
     "output_type": "execute_result"
    }
   ],
   "source": [
    "joker_best(cards('8d ** 7d 6d **')) # Two Jokers used to make a straight flush"
   ]
  },
  {
   "cell_type": "markdown",
   "metadata": {},
   "source": [
    "All the poker variants we have seen so far, even joker poker, were solved by finding a hand with maximum ranking out of all the possible hands that could be made with community cards or jokers. There was always a clear-cut way to do this, and one definitive best hand. Next we will see a variant where that is no longer true.\n",
    "\n",
    "# Draw Poker\n",
    "\n",
    "In draw poker players are given the option to **discard** one or more card(s) and **replace** them with new one(s) drawn from the deck. But unlike in joker poker where you get to choose the replacement, in draw poker you're at the mercy of the luck of the draw. \n",
    "\n",
    "In draw poker there is no **best hand** that you can make with certainty; instead we need to find the **best action** (which card to discard), with the understanding that the action will sometimes work (we hit that straight) and sometimes not. The best action is determined by the best **average** over all possible outcomes of the action (i.e. all possible draws of cards).\n",
    "\n",
    "We could try to find the action that maximizes the average type number of the resulting hands. But that's not quite right: there's a big advantage in going from type 1 (one pair) to type 3 (three of a kind), because that very often makes the difference between losing and winning. There is less of an advantage in going from type 7 (four of a kind) to type 9 (five of a kind) because the four of a kind will win most of the time anyway. \n",
    "\n",
    "# Win Probability\n",
    "\n",
    "What we really want to do is **maximize the expected probability of winning**.  The probability of winning depends on many things: the number of other players, the community cards if any, the other rules of the game (e.g. are draws or jokers allowed), the skill of the other players, the hints that the other players have given about their cards through their bets and physical tells, etc.\n",
    "\n",
    "We'll simplify by ignoring most of these factors.  We'll assume **heads up** poker, in which there are only two players. A hand's probability of winning is proportional to the percentage of hands that it is better than, out of all hands. Wikipedia [says](https://en.wikipedia.org/wiki/Poker_probability)  that 50.1% of all hands are \"high card\", so we might say that a \"high card\" hand has a 50.1% probability of winning. But that can't be the full story, because an ace high card has a much better chance of winning than a 7 high card. So we'll estimate that the probability of a hand winning is a linear interpolation, based on the value of the high card in the hand, between the cumulative probability of the hand's type and the cumulative probability of one type lower. (This assumption is wrong, again, because the relationship is not exactly linear (e.g. the lowest possible high card for type 0 is actually a 7, because otherwise the hand would be a straight) and because non-high cards also come into play, but maybe it is a close enough approximation.) I'll use Wikipedia's [Frequency of 5-card poker hands](https://en.wikipedia.org/wiki/Poker_probability) to define `deal_win_P`, the cummulative probabilities keyed by hand type numbers:"
   ]
  },
  {
   "cell_type": "code",
   "execution_count": 33,
   "metadata": {},
   "outputs": [],
   "source": [
    "def cumsum(numbers, normalize=True) -> list:\n",
    "    \"\"\"cumsum(numbers)[i] gives the cumulative sum of the first n numbers, \n",
    "    optionally normalized to sum to 1.\"\"\"\n",
    "    denom = sum(numbers) if normalize else 1\n",
    "    return [sum(numbers[:n]) / denom for n in range(len(numbers) + 1)]\n",
    "\n",
    "deal_win_P = cumsum([1302540, 1098240, 123552, 54912, 10200, 5108, 3744, 624, 40, 0])"
   ]
  },
  {
   "cell_type": "code",
   "execution_count": 34,
   "metadata": {},
   "outputs": [
    {
     "data": {
      "text/plain": [
       "[0.0,\n",
       " 0.5011773940345369,\n",
       " 0.9237464216455813,\n",
       " 0.9712854372518238,\n",
       " 0.992413888632376,\n",
       " 0.9963385354141656,\n",
       " 0.9983039369593991,\n",
       " 0.9997445131898913,\n",
       " 0.9999846092283067,\n",
       " 1.0,\n",
       " 1.0]"
      ]
     },
     "execution_count": 34,
     "metadata": {},
     "output_type": "execute_result"
    }
   ],
   "source": [
    "deal_win_P "
   ]
  },
  {
   "cell_type": "markdown",
   "metadata": {},
   "source": [
    "With that I can define `win_probability`:"
   ]
  },
  {
   "cell_type": "code",
   "execution_count": 35,
   "metadata": {},
   "outputs": [],
   "source": [
    "def win_probability(hand, P=deal_win_P) -> float:\n",
    "    \"\"\"Approximate win probability for a hand, given a list, P, of win probabilities for types.\"\"\"\n",
    "    type, hi, *_ =  ranking2(hand)\n",
    "    return P[type] + (hi - 1) / 13 * (P[type + 1] - P[type])"
   ]
  },
  {
   "cell_type": "markdown",
   "metadata": {},
   "source": [
    "Here are win probabilities for all the test hands, expressed in percents. The `deal_win_P` probabilities assume no wild cards, and thus no five-of-a-kind; therefore an ace-high straight flush (royal straight flush) is the highest possible hand, and gets a 100% win probability."
   ]
  },
  {
   "cell_type": "code",
   "execution_count": 36,
   "metadata": {},
   "outputs": [
    {
     "name": "stdout",
     "output_type": "stream",
     "text": [
      "As Ac Ah Ad Ad  100.00000%  five of a kind\n",
      "Kh Kd Ks Kc Kh  100.00000%  five of a kind\n",
      "3h 3s 3d 3c 3c  100.00000%  five of a kind\n",
      "2s 2c 2d 2h 2h  100.00000%  five of a kind\n",
      "As Ks Qs Ts Js  100.00000%  straight flush\n",
      "Kc Qc Jc Tc 9c   99.99988%  straight flush\n",
      "6d 5d 4d 3d 2d   99.99905%  straight flush\n",
      "5h 4h 3h 2h Ah   99.99893%  straight flush\n",
      "As Ac Ad Ah 2s   99.99846%  four of a kind\n",
      "7s 7c 7d 2d 7h   99.98553%  four of a kind\n",
      "6s 6c 6d 6h 9s   99.98369%  four of a kind\n",
      "As 5h 5c 5d 5s   99.98184%  four of a kind\n",
      "Th Tc Td 5h 5c   99.93013%  full house\n",
      "9h 9c 9d 8c 8h   99.91904%  full house\n",
      "6h 6c 6d Tc Th   99.88580%  full house\n",
      "5c 5d 5s As Ah   99.87472%  full house\n",
      "As 2s 3s 4s 6s   99.83039%  flush\n",
      "Kc Qc Jc Tc 2c   99.81528%  flush\n",
      "Qc Jc Tc 9c 7c   99.80016%  flush\n",
      "4h 5h 6h 7h 9h   99.75480%  flush\n",
      "As Kd Qc Td Jh   99.63385%  straight\n",
      "Kc Qh Jd Th 9c   99.60366%  straight\n",
      "6c 5d 4h 3s 2s   99.39234%  straight\n",
      "As 2d 3c 4h 5s   99.36215%  straight\n",
      "As Ac Ad 2h 3h   99.24139%  three of a kind\n",
      "Ts Tc Th 9s 8c   98.59128%  three of a kind\n",
      "Ts Tc Th 9s 7c   98.59128%  three of a kind\n",
      "9h 9s 9d Ah Kh   98.42876%  three of a kind\n",
      "Ts Tc 5s 5c 8h   95.66580%  two pair\n",
      "Ts Tc 5s 5c 7h   95.66580%  two pair\n",
      "9s 9c 8s 8c As   95.30012%  two pair\n",
      "3s 3c 2s 2d Ah   93.10601%  two pair\n",
      "As Ac 4c 5s 6s   92.37464%  one pair\n",
      "4s 4c As Ks Qs   59.86933%  one pair\n",
      "4h 4d Kh Qd Jd   59.86933%  one pair\n",
      "2d 2c Ad Kd Qd   53.36827%  one pair\n",
      "Ah 3s 4s 5s 6s   50.11774%  high card\n",
      "Kh Qh Jh Th 8d   46.26253%  high card\n",
      "7d 2s 4s 5s 6s   23.13126%  high card\n",
      "7h 6s 5d 3s 2d   23.13126%  high card\n"
     ]
    }
   ],
   "source": [
    "for h in hands:\n",
    "    print(f'{join(h)}  {win_probability(h):10.5%}  {type_name(h)}')"
   ]
  },
  {
   "cell_type": "markdown",
   "metadata": {},
   "source": [
    "Do you really expect to win 50% of the time with a high card ace, or 60% of the time with a pair of fours? Not in a game with community cards, or draws, or jokers, or more than two players. But if we're asking \"*two players just got dealt five cards each; what's the probability that my five cards are better than the others?*\" then these numbers are approximately right. If we were playing a different game, we would pass in a different probability list `P` to `win_probability`.\n",
    "\n",
    "Now we can \"solve\" draw poker. In our simplified variant players are allowed to replace one card only. (It is possible that `nocard` is the best action, e.g. if you already have a full house, straight, or flush.) `draw_best_action` returns the action that maximizes the expected value of the resulting hand. That is, it finds the card that, when discarded, maximizes the expected (mean) win probability over all possible replacement cards. It is traditional to use `E` for expected value. "
   ]
  },
  {
   "cell_type": "code",
   "execution_count": 37,
   "metadata": {},
   "outputs": [],
   "source": [
    "def draw_best_action(hand, P=deal_win_P) -> Card:\n",
    "    \"\"\"What card should you discard (or None) from this hand?\"\"\"\n",
    "    def E(c): return mean(win_probability(h, P) for h in discard_outcomes(c, hand))\n",
    "    return max([nocard, *hand], key=E)\n",
    "\n",
    "def discard_outcomes(card, hand) -> list:\n",
    "    \"\"\"All the hands that result from replacing `card` in `hand` with a new card from the `deck`.\"\"\"\n",
    "    return ([hand] if not card else\n",
    "            [replace(card, new, hand)\n",
    "             for new in deck if new not in hand])\n",
    "\n",
    "def replace(old, new, alist) -> list:\n",
    "    \"\"\"Replace old with new in alist.\"\"\"\n",
    "    return [new if c == old else c for c in alist]\n",
    "\n",
    "nocard = ''"
   ]
  },
  {
   "cell_type": "code",
   "execution_count": 38,
   "metadata": {},
   "outputs": [
    {
     "data": {
      "text/plain": [
       "'2d'"
      ]
     },
     "execution_count": 38,
     "metadata": {},
     "output_type": "execute_result"
    }
   ],
   "source": [
    "draw_best_action(cards('2d 7d 4d 9d As'))"
   ]
  },
  {
   "cell_type": "markdown",
   "metadata": {},
   "source": [
    "This says that with the given hand the best action is to discard the low card, the 2 of diamonds. Drawing a new card could give us a pair of 4s, 7s, 9s, or aces, or it could leave us with only an ace high. "
   ]
  },
  {
   "cell_type": "markdown",
   "metadata": {},
   "source": [
    "# Gathering Statistics for Type Probabilities\n",
    "\n",
    "I would like to gather some hand-type probabilities, like [Wikipedia's probabilities](https://en.wikipedia.org/wiki/Poker_probability), for different game variants. When we are just dealing five cards, it is easy enough to use combinatorics to compute exactly the proportion of hands of each type. But with complex games involving drawing from the deck or choosing community cards it is easier to estimate probabilities by doing a simulation.\n",
    "\n",
    "I'll use the notion of a **handmaker**: a function of zero arguments (except maybe optional parameters) that when called returns a random hand, according to the best possible strategy. So `texas_handmaker` deals seven cards, uses `split` to split them into 2 hole cards and 5 community cards, and then determines the best hand that can be made from those cards with `texas_best`. The other handmaker functions do likewise. The `draw_handmaker` samples 5 cards, decides what the optimal action is, and then draws a random card to replace the discard."
   ]
  },
  {
   "cell_type": "code",
   "execution_count": 39,
   "metadata": {},
   "outputs": [],
   "source": [
    "def deal_handmaker()   -> Hand: return deal(5)\n",
    "def texas_handmaker()  -> Hand: return texas_best(*deal(2, 5))\n",
    "def omaha_handmaker()  -> Hand: return omaha_best(*deal(4, 5))\n",
    "def joker_handmaker()  -> Hand: return joker_best(deal(5, deck=jdeck))\n",
    "def threeD_handmaker() -> Hand: return threeD_best(*deal(2, 15))\n",
    "\n",
    "def draw_handmaker(P=deal_win_P) -> Hand:\n",
    "    hand = deal(5)\n",
    "    discard = draw_best_action(hand, P)\n",
    "    return replace(discard, draw_card(deck, butnot=hand), hand)\n",
    "\n",
    "handmakers = (deal_handmaker, draw_handmaker, joker_handmaker, \n",
    "              texas_handmaker, omaha_handmaker, threeD_handmaker)"
   ]
  },
  {
   "cell_type": "code",
   "execution_count": 40,
   "metadata": {},
   "outputs": [],
   "source": [
    "def deal(hole, community=0, deck=deck): \n",
    "    cards = random.sample(deck, hole + community)\n",
    "    return cards if not community else (cards[:hole], cards[hole:])\n",
    "\n",
    "def draw_card(deck, butnot=()) -> Card:\n",
    "    \"\"\"Randomly draw a card from deck, but make sure it is not in `butnot`.\"\"\"\n",
    "    while True:\n",
    "        card = random.choice(deck)\n",
    "        if card not in butnot:\n",
    "            return card"
   ]
  },
  {
   "cell_type": "markdown",
   "metadata": {},
   "source": [
    "Now we're ready to run a simulation. The function `estimated_type_frequency` runs a handmaker repeatedly and returns a counter of frequencies for hand types. We use a `lru_cache` decorator so that we don't wait a long time if we repeat a calculation in a cell farther down in the notebook."
   ]
  },
  {
   "cell_type": "code",
   "execution_count": 41,
   "metadata": {},
   "outputs": [],
   "source": [
    "@lru_cache(None)\n",
    "def estimated_type_frequency(handmaker, n) -> Counter:\n",
    "    \"\"\"A counter of hand type names for n hands made by handmaker.\"\"\"\n",
    "    return Counter(type_name(handmaker()) for _ in range(n))"
   ]
  },
  {
   "cell_type": "code",
   "execution_count": 42,
   "metadata": {},
   "outputs": [
    {
     "data": {
      "text/plain": [
       "Counter({'one pair': 424,\n",
       "         'high card': 490,\n",
       "         'flush': 4,\n",
       "         'three of a kind': 16,\n",
       "         'two pair': 56,\n",
       "         'full house': 3,\n",
       "         'straight': 6,\n",
       "         'four of a kind': 1})"
      ]
     },
     "execution_count": 42,
     "metadata": {},
     "output_type": "execute_result"
    }
   ],
   "source": [
    "estimated_type_frequency(deal_handmaker, 1000)"
   ]
  },
  {
   "cell_type": "code",
   "execution_count": 43,
   "metadata": {},
   "outputs": [],
   "source": [
    "def stats(handmakers, n=10**5):\n",
    "    \"\"\"Print hand type probability statistics for each handmaker.\"\"\"\n",
    "    samples = [estimated_type_frequency(h, n) for h in handmakers]\n",
    "    def name(h): return h.__name__.split('_')[0]\n",
    "    print(f'{\"Type of Hand\":15}  {join(f\"{name(h):>7s}\" for h in handmakers)}')\n",
    "    print(f'{\"-\"*15}  {join(\"-\"*7 for h in handmakers)}')\n",
    "    for t in reversed(type_names):\n",
    "        print(f'{t:15} ', join(f'{s[t]/n:7.3%}' for s in samples))"
   ]
  },
  {
   "cell_type": "code",
   "execution_count": 44,
   "metadata": {},
   "outputs": [
    {
     "name": "stdout",
     "output_type": "stream",
     "text": [
      "Type of Hand        deal    draw   joker   texas   omaha  threeD\n",
      "---------------  ------- ------- ------- ------- ------- -------\n",
      "five of a kind    0.000%  0.000%  0.003%  0.000%  0.000%  0.000%\n",
      "straight flush    0.002%  0.009%  0.010%  0.023%  0.095%  0.189%\n",
      "four of a kind    0.031%  0.077%  0.309%  0.160%  0.478%  1.558%\n",
      "full house        0.150%  0.694%  0.290%  2.551%  6.268%  9.729%\n",
      "flush             0.174%  0.786%  0.367%  3.169%  6.796%  7.679%\n",
      "straight          0.400%  1.314%  1.047%  4.615% 11.416% 18.565%\n",
      "three of a kind   1.935%  3.670%  7.294%  4.747%  8.743% 25.989%\n",
      "two pair          4.692%  9.980%  3.930% 23.456% 36.949% 28.106%\n",
      "one pair         42.378% 47.771% 45.501% 43.810% 26.305%  8.178%\n",
      "high card        50.238% 35.699% 41.249% 17.469%  2.950%  0.007%\n",
      "CPU times: user 5min 20s, sys: 1.91 s, total: 5min 22s\n",
      "Wall time: 5min 52s\n"
     ]
    }
   ],
   "source": [
    "%time stats(handmakers)"
   ]
  },
  {
   "cell_type": "markdown",
   "metadata": {},
   "source": [
    "The `deal` column shows good agreement with the [known poker probabilities](https://en.wikipedia.org/wiki/Poker_probability). The other columns show that hands get better as we allow more options in the game, with Omaha yielding much higher hands than Texas, but Three-D yielding the highest hands of all. There is an inversion in Omaha where straights are more probable than three of a kind. It appears that is because many of the three-of-a-kinds become full houses (which are just three-of-a-kinds where the other two cards happen to match). In Three-D, there is an inversion in that full houses are more probable than flushes; perhaps a flush should beat a full house in that game.\n",
    "\n",
    "# Draw Poker Revisited\n",
    "\n",
    "Now that we have seen the stats for what types of hands we can achieve in draw poker by following `draw_best_action`, it makes sense that we modify the best actions! That is, `draw_best_action` assumed that \"high card\" wins about 50% of the time. But we see in the `draw` column of the stats chart that if players use their draw card properly, a high card will only win about 35% of hands. That should change our actions, making us more willing to take risks to get a pair or higher. \n",
    "\n",
    "The new cumulative winning percentages for draw poker, assuming players will chose the best action for their draw, can be computed as follows:"
   ]
  },
  {
   "cell_type": "code",
   "execution_count": 45,
   "metadata": {},
   "outputs": [
    {
     "data": {
      "text/plain": [
       "[0.0,\n",
       " 0.35699,\n",
       " 0.8347,\n",
       " 0.9345,\n",
       " 0.9712,\n",
       " 0.98434,\n",
       " 0.9922,\n",
       " 0.99914,\n",
       " 0.99991,\n",
       " 1.0,\n",
       " 1.0]"
      ]
     },
     "execution_count": 45,
     "metadata": {},
     "output_type": "execute_result"
    }
   ],
   "source": [
    "f = estimated_type_frequency(draw_handmaker, 10**5)\n",
    "draw_win_P = cumsum([f[type_names[type]] for type in types])\n",
    "draw_win_P"
   ]
  },
  {
   "cell_type": "markdown",
   "metadata": {},
   "source": [
    "Now let's consider the following hand under both sets of probabilities:"
   ]
  },
  {
   "cell_type": "code",
   "execution_count": 46,
   "metadata": {},
   "outputs": [
    {
     "data": {
      "text/plain": [
       "'4s'"
      ]
     },
     "execution_count": 46,
     "metadata": {},
     "output_type": "execute_result"
    }
   ],
   "source": [
    "hand = cards('6d 8c 4s Qc 7s')\n",
    "\n",
    "draw_best_action(hand, P=deal_win_P)"
   ]
  },
  {
   "cell_type": "markdown",
   "metadata": {},
   "source": [
    "Under the  old `deal_win_P` probabilities, the best play is the safe play: discard the low card. We'll end up with either a pair or at least a queen high.\n",
    "\n",
    "But under the new `draw_win_P` probabilities, the best action has changed:"
   ]
  },
  {
   "cell_type": "code",
   "execution_count": 47,
   "metadata": {},
   "outputs": [
    {
     "data": {
      "text/plain": [
       "'Qc'"
      ]
     },
     "execution_count": 47,
     "metadata": {},
     "output_type": "execute_result"
    }
   ],
   "source": [
    "draw_best_action(hand, P=draw_win_P)"
   ]
  },
  {
   "cell_type": "markdown",
   "metadata": {},
   "source": [
    "This is a risky play: we give up our high card, so our hand could get worse. But there's a 4/47 chance of greatly improving the hand by hitting the inside straight; the same 16/47 chance of getting a pair of some kind (but not a pair of queens), and a 11/47 chance of getting a hiugh card of queen or better. The difference in actions is because under `draw_win_P`, a queen high is much less likely to win, so it is worth sacrificing the queen for a chance at a straight.\n",
    "\n",
    "Now I will define a new handmaker that uses these probabilities, and I will regenerate the stats chart (note that the `@lru_cache` dedcorator on `estimated_type_frequency` means that I won't have to wait another five minutes)."
   ]
  },
  {
   "cell_type": "code",
   "execution_count": 48,
   "metadata": {},
   "outputs": [
    {
     "name": "stdout",
     "output_type": "stream",
     "text": [
      "Type of Hand       draw2    deal    draw   joker   texas   omaha  threeD\n",
      "---------------  ------- ------- ------- ------- ------- ------- -------\n",
      "five of a kind    0.000%  0.000%  0.000%  0.003%  0.000%  0.000%  0.000%\n",
      "straight flush    0.003%  0.002%  0.009%  0.010%  0.023%  0.095%  0.189%\n",
      "four of a kind    0.076%  0.031%  0.077%  0.309%  0.160%  0.478%  1.558%\n",
      "full house        0.696%  0.150%  0.694%  0.290%  2.551%  6.268%  9.729%\n",
      "flush             0.810%  0.174%  0.786%  0.367%  3.169%  6.796%  7.679%\n",
      "straight          1.404%  0.400%  1.314%  1.047%  4.615% 11.416% 18.565%\n",
      "three of a kind   3.723%  1.935%  3.670%  7.294%  4.747%  8.743% 25.989%\n",
      "two pair          9.533%  4.692%  9.980%  3.930% 23.456% 36.949% 28.106%\n",
      "one pair         47.700% 42.378% 47.771% 45.501% 43.810% 26.305%  8.178%\n",
      "high card        36.055% 50.238% 35.699% 41.249% 17.469%  2.950%  0.007%\n"
     ]
    }
   ],
   "source": [
    "def draw2_handmaker() -> Hand: return draw_handmaker(P=draw_win_P)\n",
    "\n",
    "stats((draw2_handmaker, *handmakers))"
   ]
  },
  {
   "cell_type": "markdown",
   "metadata": {},
   "source": [
    "To be truly accurate, we should repeat this process of using updated probabilities until we hit a fixpoint. But we can see that there is not that much difference between the `draw` and the `draw2` columns, so I'm not going to bother with that.\n",
    "\n",
    "Below I compare the two win probabilities for the test hands, `deal_win_P` on the left and `draw_win_P` on the right:\n",
    "\n"
   ]
  },
  {
   "cell_type": "code",
   "execution_count": 49,
   "metadata": {},
   "outputs": [
    {
     "name": "stdout",
     "output_type": "stream",
     "text": [
      "As Ac Ah Ad Ad  100.00000%  100.00000%  five of a kind\n",
      "Kh Kd Ks Kc Kh  100.00000%  100.00000%  five of a kind\n",
      "3h 3s 3d 3c 3c  100.00000%  100.00000%  five of a kind\n",
      "2s 2c 2d 2h 2h  100.00000%  100.00000%  five of a kind\n",
      "As Ks Qs Ts Js  100.00000%  100.00000%  straight flush\n",
      "Kc Qc Jc Tc 9c   99.99988%   99.99931%  straight flush\n",
      "6d 5d 4d 3d 2d   99.99905%   99.99446%  straight flush\n",
      "5h 4h 3h 2h Ah   99.99893%   99.99377%  straight flush\n",
      "As Ac Ad Ah 2s   99.99846%   99.99100%  four of a kind\n",
      "7s 7c 7d 2d 7h   99.98553%   99.94954%  four of a kind\n",
      "6s 6c 6d 6h 9s   99.98369%   99.94362%  four of a kind\n",
      "As 5h 5c 5d 5s   99.98184%   99.93769%  four of a kind\n",
      "Th Tc Td 5h 5c   99.93013%   99.70046%  full house\n",
      "9h 9c 9d 8c 8h   99.91904%   99.64708%  full house\n",
      "6h 6c 6d Tc Th   99.88580%   99.48692%  full house\n",
      "5c 5d 5s As Ah   99.87472%   99.43354%  full house\n",
      "As 2s 3s 4s 6s   99.83039%   99.22000%  flush\n",
      "Kc Qc Jc Tc 2c   99.81528%   99.15954%  flush\n",
      "Qc Jc Tc 9c 7c   99.80016%   99.09908%  flush\n",
      "4h 5h 6h 7h 9h   99.75480%   98.91769%  flush\n",
      "As Kd Qc Td Jh   99.63385%   98.43400%  straight\n",
      "Kc Qh Jd Th 9c   99.60366%   98.33292%  straight\n",
      "6c 5d 4h 3s 2s   99.39234%   97.62538%  straight\n",
      "As 2d 3c 4h 5s   99.36215%   97.52431%  straight\n",
      "As Ac Ad 2h 3h   99.24139%   97.12000%  three of a kind\n",
      "Ts Tc Th 9s 8c   98.59128%   95.99077%  three of a kind\n",
      "Ts Tc Th 9s 7c   98.59128%   95.99077%  three of a kind\n",
      "9h 9s 9d Ah Kh   98.42876%   95.70846%  three of a kind\n",
      "Ts Tc 5s 5c 8h   95.66580%   90.37923%  two pair\n",
      "Ts Tc 5s 5c 7h   95.66580%   90.37923%  two pair\n",
      "9s 9c 8s 8c As   95.30012%   89.61154%  two pair\n",
      "3s 3c 2s 2d Ah   93.10601%   85.00538%  two pair\n",
      "As Ac 4c 5s 6s   92.37464%   83.47000%  one pair\n",
      "4s 4c As Ks Qs   59.86933%   46.72308%  one pair\n",
      "4h 4d Kh Qd Jd   59.86933%   46.72308%  one pair\n",
      "2d 2c Ad Kd Qd   53.36827%   39.37369%  one pair\n",
      "Ah 3s 4s 5s 6s   50.11774%   35.69900%  high card\n",
      "Kh Qh Jh Th 8d   46.26253%   32.95292%  high card\n",
      "7d 2s 4s 5s 6s   23.13126%   16.47646%  high card\n",
      "7h 6s 5d 3s 2d   23.13126%   16.47646%  high card\n"
     ]
    }
   ],
   "source": [
    "for h in hands:\n",
    "    p1, p2 = win_probability(h, P=deal_win_P), win_probability(h, P=draw_win_P)\n",
    "    print(f'{join(h)}  {p1:10.5%}  {p2:10.5%}  {type_name(h)}')"
   ]
  },
  {
   "cell_type": "markdown",
   "metadata": {},
   "source": [
    "______\n",
    "\n",
    "# What Comes First?\n",
    "\n",
    "Bram Cohen suggests an interesting experiment: shuffle a deck and flip over cards one at a time, until either a flush or a straight appears among the face-up cards. Among five-card hands, a straight is more likely, so shouldn't it come up first more often? Let's create a simulation to see:"
   ]
  },
  {
   "cell_type": "code",
   "execution_count": 50,
   "metadata": {},
   "outputs": [],
   "source": [
    "def flush_or_straight_first(deck=deck) -> str:\n",
    "    \"\"\"Deal cards randomly until a straight or flush show up among any of the cards.\"\"\"\n",
    "    random.shuffle(deck)\n",
    "    suits   = Counter() # Count how many we have of each suit\n",
    "    rankset = set()     # Set of all the ranks of the cards so far\n",
    "    first   = ''        # What came first?\n",
    "    for card in deck:\n",
    "        suits[suit(card)] += 1\n",
    "        rankset.add(rank(card))\n",
    "        if is_straight(rankset): first += 'straight'\n",
    "        if 5 in suits.values():  first += 'flush'\n",
    "        if first:                \n",
    "            return first\n",
    "        \n",
    "def is_straight(rankset) -> bool:\n",
    "    \"\"\"See if any possible straight is a subset of the rankset.\"\"\"\n",
    "    return any(straight.issubset(rankset) for straight in straights)\n",
    "\n",
    "straights = [set(range(start, start + 5)) for start in range(2, 11)] + [{14, 2, 3, 4, 5}]"
   ]
  },
  {
   "cell_type": "code",
   "execution_count": 51,
   "metadata": {},
   "outputs": [
    {
     "data": {
      "text/plain": [
       "'flush'"
      ]
     },
     "execution_count": 51,
     "metadata": {},
     "output_type": "execute_result"
    }
   ],
   "source": [
    "flush_or_straight_first()"
   ]
  },
  {
   "cell_type": "code",
   "execution_count": 52,
   "metadata": {},
   "outputs": [
    {
     "data": {
      "text/plain": [
       "'flush'"
      ]
     },
     "execution_count": 52,
     "metadata": {},
     "output_type": "execute_result"
    }
   ],
   "source": [
    "flush_or_straight_first()"
   ]
  },
  {
   "cell_type": "code",
   "execution_count": 53,
   "metadata": {},
   "outputs": [
    {
     "data": {
      "text/plain": [
       "Counter({'straight': 3961, 'flush': 5066, 'straightflush': 973})"
      ]
     },
     "execution_count": 53,
     "metadata": {},
     "output_type": "execute_result"
    }
   ],
   "source": [
    "Counter(flush_or_straight_first() for _ in range(10**4))"
   ]
  },
  {
   "cell_type": "markdown",
   "metadata": {},
   "source": [
    "We know that a straight is a more probable hand than a flush in general, but\n",
    "counterintuitively, a flush is more likely to come up first, by about 50% to 40%, with about 10% of the time both of them coming up on the same card (a straight flush). One explanation for this is the [pigeonhole principle](https://en.wikipedia.org/wiki/Pigeonhole_principle): there are only four suits (pigeonholes), each of which can only fit four cards (pigeons) before we get a flush. So that means, in the worst case, the first 16 cards fill all the holes, and the 17th card **must** make a flush. But for a straight, it is possible to go 20 or 30 or even 40 cards without making any straight (e.g.: 2-3-4-5, 7-8-9-T, and Q-K of each suit is 40 cards with no straight).\n",
    " \n",
    "We can extend Bram's experiment to all the  types. The function `what_first` simulates a single pass through the deck, flipping up cards until every type has appeared, and returning as a result a dict of `{type_number: number_of_cards_to_make_that_type}`. We'll leave out type 0, \"high card\", because the very first card always makes a high card."
   ]
  },
  {
   "cell_type": "code",
   "execution_count": 54,
   "metadata": {},
   "outputs": [],
   "source": [
    "def what_first(deck=deck) -> list:\n",
    "    \"\"\"Flip cards; record how many cards it took for each type.\"\"\"\n",
    "    random.shuffle(deck)\n",
    "    suits    = Counter()   # Count how many we have of each suit\n",
    "    ranks    = Counter()   # Count how many we have of each rank\n",
    "    rankset  = set()       # Set of all the ranks of the cards so far\n",
    "    ranksets = {s: set() for s in 'shdc'} # As above, but per suit\n",
    "    numbers  = {}          # The number of cards required to make each type\n",
    "    kind     = lambda n: sum(ranks[r] >= n for r in ranks)\n",
    "    def record(type, i): \n",
    "        if type not in numbers: numbers[type] = i\n",
    "    for i, card in enumerate(deck, 1):\n",
    "        suits[suit(card)]    += 1\n",
    "        ranks[rank(card)]    += 1\n",
    "        rankset              |= {rank(card)}\n",
    "        ranksets[suit(card)] |= {rank(card)}\n",
    "        if 8 not in numbers and any(is_straight(ranksets[suit]) for suit in 'sdhc'): \n",
    "                                     record(8, i) # straight flush\n",
    "        if kind(4):                  record(7, i) # four of a kind  \n",
    "        if kind(3) and kind(2) >= 2: record(6, i) # full house\n",
    "        if 5 in suits.values():      record(5, i) # flush\n",
    "        if 4 not in numbers and is_straight(rankset): \n",
    "                                     record(4, i) # straight\n",
    "        if kind(3):                  record(3, i) # three of a kind\n",
    "        if kind(2) == 2:             record(2, i) # two pair\n",
    "        if kind(2):                  record(1, i) # one pair\n",
    "        if len(numbers) == 8:\n",
    "            return numbers"
   ]
  },
  {
   "cell_type": "markdown",
   "metadata": {},
   "source": [
    "A sample run:"
   ]
  },
  {
   "cell_type": "code",
   "execution_count": 55,
   "metadata": {},
   "outputs": [
    {
     "data": {
      "text/plain": [
       "{1: 3, 2: 6, 5: 11, 6: 16, 3: 16, 7: 24, 8: 26, 4: 26}"
      ]
     },
     "execution_count": 55,
     "metadata": {},
     "output_type": "execute_result"
    }
   ],
   "source": [
    "what_first()"
   ]
  },
  {
   "cell_type": "markdown",
   "metadata": {},
   "source": [
    "I will define `what_firsts` to run `n` simulations and return a dict keyed by type number, where each value is a Counter of the card numbers where the type first appeared across all the simulations. "
   ]
  },
  {
   "cell_type": "code",
   "execution_count": 56,
   "metadata": {},
   "outputs": [],
   "source": [
    "def what_firsts(n) -> dict:\n",
    "    \"\"\"Run what_first() n times and record numbers of cards as Counters:\n",
    "    returns dict of {type_number: Counter(how_many_cards: how_often})}\"\"\"\n",
    "    counters = {type: Counter() for type in types}\n",
    "    for trial in range(n):\n",
    "        numbers = what_first()\n",
    "        for type in numbers:\n",
    "            counters[type][numbers[type]] += 1\n",
    "    return counters        "
   ]
  },
  {
   "cell_type": "code",
   "execution_count": 57,
   "metadata": {},
   "outputs": [
    {
     "data": {
      "text/plain": [
       "{0: Counter(),\n",
       " 1: Counter({6: 3, 4: 2, 9: 2, 3: 1, 5: 1, 2: 1}),\n",
       " 2: Counter({7: 1, 11: 1, 10: 3, 12: 1, 9: 2, 4: 1, 8: 1}),\n",
       " 3: Counter({10: 1, 17: 1, 20: 2, 15: 2, 11: 1, 13: 1, 12: 2}),\n",
       " 4: Counter({8: 4, 13: 1, 9: 1, 16: 2, 11: 1, 12: 1}),\n",
       " 5: Counter({12: 3, 11: 1, 10: 1, 13: 3, 8: 1, 17: 1}),\n",
       " 6: Counter({10: 1, 17: 1, 20: 2, 15: 2, 11: 1, 13: 1, 12: 2}),\n",
       " 7: Counter({18: 2, 31: 1, 29: 1, 23: 1, 26: 2, 19: 1, 28: 1, 24: 1}),\n",
       " 8: Counter({21: 2, 29: 1, 18: 1, 24: 2, 31: 1, 30: 1, 28: 1, 26: 1}),\n",
       " 9: Counter()}"
      ]
     },
     "execution_count": 57,
     "metadata": {},
     "output_type": "execute_result"
    }
   ],
   "source": [
    "what_firsts(10) # Run 10 simulations"
   ]
  },
  {
   "cell_type": "markdown",
   "metadata": {},
   "source": [
    "We see that type 1 (one pair) has a Counter with mostly low numbers&mdash;a pair tends to show up early. Type 8 (straight flush) has a Counter with mostly high numbers; it takes a lot of cards before you are likely to get a straight flush. \n",
    "\n",
    "Let's run 100,000 simulations:"
   ]
  },
  {
   "cell_type": "code",
   "execution_count": 58,
   "metadata": {},
   "outputs": [
    {
     "name": "stdout",
     "output_type": "stream",
     "text": [
      "CPU times: user 46.7 s, sys: 264 ms, total: 47 s\n",
      "Wall time: 50.3 s\n"
     ]
    }
   ],
   "source": [
    "%time counters = what_firsts(10**5)"
   ]
  },
  {
   "cell_type": "markdown",
   "metadata": {},
   "source": [
    "The raw numbers are messy to look at, so I'll plot them, showing for each type the distribution of how many cards it took, and in the legend showing the mean number of cards for each type:"
   ]
  },
  {
   "cell_type": "code",
   "execution_count": 59,
   "metadata": {},
   "outputs": [],
   "source": [
    "def plot_what_firsts(counters, types=range(1, 9), \n",
    "                     colors='w b g r c m y k orange'.split()):\n",
    "    N = sum(counters[min(types)].values())           # How many trials\n",
    "    M = max(L for c in counters.values() for L in c) # Longest trial\n",
    "    X = range(1, M + 1)                              # Numbers to plot\n",
    "    plt.figure(figsize=(10, 6))\n",
    "    plt.xlabel('Number of cards needed')\n",
    "    plt.ylabel(f'Percent (out of {N:,d} trials)')\n",
    "    plt.grid(True, which='major'); \n",
    "    plt.grid(True, which='minor', linestyle=':', alpha=0.5, markevery=1)\n",
    "    plt.minorticks_on()\n",
    "    for type in reversed(types):\n",
    "        Y = [100 * counters[type][x]/ N for x in X]\n",
    "        μ = sum(L * n for L, n in counters[type].items()) / N\n",
    "        plt.plot(X, Y, 'o:', lw=2, alpha=0.8, color=colors[type],\n",
    "                 label=f'{type}: μ={μ:4.1f} {type_names[type]}')\n",
    "    plt.legend()\n",
    "    plt.show()"
   ]
  },
  {
   "cell_type": "code",
   "execution_count": 60,
   "metadata": {},
   "outputs": [
    {
     "data": {
      "image/png": "[encoded data removed]",
      "text/plain": [
       "<Figure size 720x432 with 1 Axes>"
      ]
     },
     "metadata": {
      "needs_background": "light"
     },
     "output_type": "display_data"
    }
   ],
   "source": [
    "plot_what_firsts(counters)"
   ]
  },
  {
   "cell_type": "markdown",
   "metadata": {},
   "source": [
    "OK, that looks kind of like a side view of the rollercoasters at Six Flags amusement park. Let's see if we can make sense of it. There seem to be three distinct patterns. First, there are three hand types with an early sharp peak: "
   ]
  },
  {
   "cell_type": "code",
   "execution_count": 61,
   "metadata": {},
   "outputs": [
    {
     "data": {
      "image/png": "[encoded data removed]",
      "text/plain": [
       "<Figure size 720x432 with 1 Axes>"
      ]
     },
     "metadata": {
      "needs_background": "light"
     },
     "output_type": "display_data"
    }
   ],
   "source": [
    "plot_what_firsts(counters, types=(1, 2, 5))"
   ]
  },
  {
   "cell_type": "markdown",
   "metadata": {},
   "source": [
    "As discussed, the flush can go no more than 17 cards. Also by the pigeonhole principle, the pair can go no more than 14 cards (one card in each of the 13 ranks, and then the 14th card must form a pair) and two pair can go no more than 17 cards (one card in each of the 13 ranks, then 3 more cards in one of the ranks (making four of a kind), and then the 17th card must make a second pair).\n",
    "\n",
    "Next are three tightly-grouped Gaussian-looking curves. It makes sense that three of a kind and full house are close together, because usually when you get three of a kind, you have gotten some other pair previously. I'm not sure why straight is so close to them."
   ]
  },
  {
   "cell_type": "code",
   "execution_count": 62,
   "metadata": {},
   "outputs": [
    {
     "data": {
      "image/png": "[encoded data removed]",
      "text/plain": [
       "<Figure size 720x432 with 1 Axes>"
      ]
     },
     "metadata": {
      "needs_background": "light"
     },
     "output_type": "display_data"
    }
   ],
   "source": [
    "plot_what_firsts(counters, types=(3, 4, 6))"
   ]
  },
  {
   "cell_type": "markdown",
   "metadata": {},
   "source": [
    "Finally, I was quite surprised to see how closely the straight flush and four of a kind curves track each other; I can't explain why:"
   ]
  },
  {
   "cell_type": "code",
   "execution_count": 63,
   "metadata": {},
   "outputs": [
    {
     "data": {
      "image/png": "[encoded data removed]",
      "text/plain": [
       "<Figure size 720x432 with 1 Axes>"
      ]
     },
     "metadata": {
      "needs_background": "light"
     },
     "output_type": "display_data"
    }
   ],
   "source": [
    "plot_what_firsts(counters, types=(7, 8))"
   ]
  },
  {
   "cell_type": "markdown",
   "metadata": {},
   "source": [
    "That concludes our exploration of poker ranking; I hope it has inspired you to explore some on your own."
   ]
  }
 ],
 "metadata": {
  "kernelspec": {
   "display_name": "Python 3",
   "language": "python",
   "name": "python3"
  },
  "language_info": {
   "codemirror_mode": {
    "name": "ipython",
    "version": 3
   },
   "file_extension": ".py",
   "mimetype": "text/x-python",
   "name": "python",
   "nbconvert_exporter": "python",
   "pygments_lexer": "ipython3",
   "version": "3.7.6"
  }
 },
 "nbformat": 4,
 "nbformat_minor": 4
}
